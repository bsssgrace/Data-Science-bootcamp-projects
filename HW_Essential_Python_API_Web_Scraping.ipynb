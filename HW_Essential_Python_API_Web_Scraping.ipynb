{
  "nbformat": 4,
  "nbformat_minor": 0,
  "metadata": {
    "colab": {
      "provenance": [],
      "authorship_tag": "ABX9TyO4az4Crg7/NDiukwXr2kDe",
      "include_colab_link": true
    },
    "kernelspec": {
      "name": "python3",
      "display_name": "Python 3"
    },
    "language_info": {
      "name": "python"
    }
  },
  "cells": [
    {
      "cell_type": "markdown",
      "metadata": {
        "id": "view-in-github",
        "colab_type": "text"
      },
      "source": [
        "<a href=\"https://colab.research.google.com/github/bsssgrace/Data-Science-bootcamp-projects/blob/main/HW_Essential_Python_API_Web_Scraping.ipynb\" target=\"_parent\"><img src=\"https://colab.research.google.com/assets/colab-badge.svg\" alt=\"Open In Colab\"/></a>"
      ]
    },
    {
      "cell_type": "markdown",
      "source": [
        "## **API - Scrape & Build DataFrame**"
      ],
      "metadata": {
        "id": "g5HdEnTs7gzG"
      }
    },
    {
      "cell_type": "code",
      "source": [
        "!pip install gazpacho"
      ],
      "metadata": {
        "colab": {
          "base_uri": "https://localhost:8080/"
        },
        "id": "bdcnVqKh9S8E",
        "outputId": "4829561e-da55-4448-ba3d-70a5e6e2be6a"
      },
      "execution_count": 19,
      "outputs": [
        {
          "output_type": "stream",
          "name": "stdout",
          "text": [
            "Looking in indexes: https://pypi.org/simple, https://us-python.pkg.dev/colab-wheels/public/simple/\n",
            "Requirement already satisfied: gazpacho in /usr/local/lib/python3.7/dist-packages (1.1)\n"
          ]
        }
      ]
    },
    {
      "cell_type": "code",
      "source": [
        "from gazpacho import Soup\n",
        "from requests import get"
      ],
      "metadata": {
        "id": "KSfZ8_vK91dq"
      },
      "execution_count": 2,
      "outputs": []
    },
    {
      "cell_type": "code",
      "source": [
        "# define a url\n",
        "url = \"https://thewinelist.shop/10-wine\""
      ],
      "metadata": {
        "id": "wwCc39H37xGL"
      },
      "execution_count": 68,
      "outputs": []
    },
    {
      "cell_type": "code",
      "source": [
        "resp = get(url)\n",
        "resp.status_code"
      ],
      "metadata": {
        "colab": {
          "base_uri": "https://localhost:8080/"
        },
        "id": "Kxb76Klo-p35",
        "outputId": "90cebcc9-373f-4479-9a6e-95fd29e9e845"
      },
      "execution_count": 69,
      "outputs": [
        {
          "output_type": "execute_result",
          "data": {
            "text/plain": [
              "200"
            ]
          },
          "metadata": {},
          "execution_count": 69
        }
      ]
    },
    {
      "cell_type": "code",
      "source": [
        "wine = Soup(resp.text)"
      ],
      "metadata": {
        "id": "6qnwtZj1-Iw4"
      },
      "execution_count": 70,
      "outputs": []
    },
    {
      "cell_type": "code",
      "source": [
        "wine.find(\"h3\")"
      ],
      "metadata": {
        "colab": {
          "base_uri": "https://localhost:8080/"
        },
        "id": "W48qma2y-IzW",
        "outputId": "12f72f2c-d3cc-4f64-82f0-468dcab026c4"
      },
      "execution_count": 71,
      "outputs": [
        {
          "output_type": "execute_result",
          "data": {
            "text/plain": [
              "[<h3 class=\"h3 product-title\">\n",
              "   <a href=\"https://thewinelist.shop/bundles/760837-santa-carolina-couple-pack.html\">Santa Carolina Couple Pack</a>\n",
              " </h3>, <h3 class=\"h3 product-title\">\n",
              "   <a href=\"https://thewinelist.shop/wine-sparkling/33-santa-carolina-brut-chardonnay-nv.html\">Santa Carolina Brut Chardonnay N.V.</a>\n",
              " </h3>, <h3 class=\"h3 product-title\">\n",
              "   <a href=\"https://thewinelist.shop/wine-white/26-santa-carolina-premio-sauvignon-blanc-2014.html\">Santa Carolina Premio Sauvignon Blanc 2014</a>\n",
              " </h3>, <h3 class=\"h3 product-title\">\n",
              "   <a href=\"https://thewinelist.shop/wine/761242-chateau-haut-brion-1er-grand-cru-classe-2013.html\">Chateau HAUT BRION 1er Grand Cru Classe 2013</a>\n",
              " </h3>, <h3 class=\"h3 product-title\">\n",
              "   <a href=\"https://thewinelist.shop/rose/264-hunter-s-wine-marlborough-pinot-noire-rose-2017.html\">Hunter's Pinot Noir Rose 2017</a>\n",
              " </h3>, <h3 class=\"h3 product-title\">\n",
              "   <a href=\"https://thewinelist.shop/sweet-wines/172-brown-brothers-moscato-2017.html\">Brown Brothers Moscato</a>\n",
              " </h3>, <h3 class=\"h3 product-title\">\n",
              "   <a href=\"https://thewinelist.shop/wine-sparkling/88-blue-nun-blue-nun-sparkling-nv.html\">Blue Nun Blue Nun Sparkling Wine N.V.</a>\n",
              " </h3>, <h3 class=\"h3 product-title\">\n",
              "   <a href=\"https://thewinelist.shop/wine-white/28-santa-carolina-sauvignon-blanc-semillon-vistana-2017.html\">Santa Carolina SAUVIGNON BLANC SEMILLON &quot;Vistana&quot; 2017</a>\n",
              " </h3>, <h3 class=\"h3 product-title\">\n",
              "   <a href=\"https://thewinelist.shop/wine-red/24-mascota-vineyards-big-bat-cabernet-sauvignon-2015.html\">Mascota Vineyards Big Bat Cabernet Sauvignon 2014</a>\n",
              " </h3>, <h3 class=\"h3 product-title\">\n",
              "   <a href=\"https://thewinelist.shop/sweet-wines/273-chateau-d-yquem-1er-grand-cru-classe-eceptionnel-2014.html\">Chateau d'Yquem 1er Grand Cru Classé Eceptionnel 2014 (375ml.)</a>\n",
              " </h3>, <h3 class=\"h3 product-title\">\n",
              "   <a href=\"https://thewinelist.shop/wine-sparkling/89-blue-nun-24k-gold-edition-24k-gold-edition-nv.html\">Blue Nun Blue Nun 24K Gold Edition N.V.</a>\n",
              " </h3>, <h3 class=\"h3 product-title\">\n",
              "   <a href=\"https://thewinelist.shop/wine-white/31-santa-carolina-cellar-selection-sauvignon-blanc-2017.html\">Santa Carolina Cellar Selection Sauvignon Blanc 2017</a>\n",
              " </h3>, <h3 class=\"h3 product-title\">\n",
              "   <a href=\"https://thewinelist.shop/rose/279-bodvar-house-of-rose-n-1-pearly-rose-cinsault-2016.html\">Bodvar Bodvár N° 1 Rosé , Lightly Sparkling Wine 2016</a>\n",
              " </h3>, <h3 class=\"h3 product-title\">\n",
              "   <a href=\"https://thewinelist.shop/sweet-wines/274-chateau-d-arche-2em-vin-soleil-d-arche-2012.html\">Chateau D'ARCHE 2em Vin SOLEIL D'ARCHE 2012</a>\n",
              " </h3>, <h3 class=\"h3 product-title\">\n",
              "   <a href=\"https://thewinelist.shop/wine-sparkling/164-gancia-prosecco-spumante-prosecco-spumante-doc-nv.html\">Gancia Prosecco Nv</a>\n",
              " </h3>, <h3 class=\"h3 product-title\">\n",
              "   <a href=\"https://thewinelist.shop/wine-white/32-santa-carolina-cellar-selection-chardonnay-2017.html\">Santa Carolina Cellar Selection Chardonnay 2017</a>\n",
              " </h3>, <h3 class=\"h3 product-title\">\n",
              "   <a href=\"https://thewinelist.shop/wine-red/27-santa-carolina-vistana-cabernet-sauvignon-merlot-2014.html\">Santa Carolina Vistana Cabernet Sauvignon Merlot 2014</a>\n",
              " </h3>, <h3 class=\"h3 product-title\">\n",
              "   <a href=\"https://thewinelist.shop/rose/280-bodvar-house-of-rose-bodvar-n-5-rose-grenache-cinsault-and-rolle-2017.html\">BODVÁR House of Rose BODVÁR N° 5 ROSÉ Grenache, Cinsault and Rolle 2017</a>\n",
              " </h3>, <h3 class=\"h3 product-title\">\n",
              "   <a href=\"https://thewinelist.shop/sweet-wines/275-chateau-doisy-vedrines-2em-grand-cru-classe-1993.html\">Chateau Doisy Vedrines 2em Grand Cru Classe 1993</a>\n",
              " </h3>, <h3 class=\"h3 product-title\">\n",
              "   <a href=\"https://thewinelist.shop/wine-sparkling/165-rivani-prosecco-spumante-prosecco-spumante-doc-nv.html\">Rivani Prosecco Spumante Extra Dry Nv</a>\n",
              " </h3>, <h3 class=\"h3 product-title\">\n",
              "   <a href=\"https://thewinelist.shop/wine-white/36-santa-carolina-estrellas-sauvignon-blanc-2016.html\">Santa Carolina Sauvignon Blanc &quot;Estrellas&quot; 2016</a>\n",
              " </h3>, <h3 class=\"h3 product-title\">\n",
              "   <a href=\"https://thewinelist.shop/rose/281-bodvar-house-of-rose-bodvar-n-7-rose-grenache-cinsault-and-syrah-2017.html\">BODVÁR House of Rose BODVÁR N° 7 ROSÉ Grenache, Cinsault and Syrah 2017</a>\n",
              " </h3>, <h3 class=\"h3 product-title\">\n",
              "   <a href=\"https://thewinelist.shop/sweet-wines/276-chateau-doisy-daene-2em-grand-cru-classe-1996.html\">Ch. Doisy Daene 2Em Grand Cru Classé 1996</a>\n",
              " </h3>, <h3 class=\"h3 product-title\">\n",
              "   <a href=\"https://thewinelist.shop/wine-sparkling/166-rivani-vino-spumante-dolce-moscato-nv.html\">Rivani Moscato Spumante Dolce Nv</a>\n",
              " </h3>]"
            ]
          },
          "metadata": {},
          "execution_count": 71
        }
      ]
    },
    {
      "cell_type": "code",
      "source": [
        "wine.find(\"h3\", {'class': 'h3 product-title'})"
      ],
      "metadata": {
        "colab": {
          "base_uri": "https://localhost:8080/"
        },
        "id": "ZVVcZDk--I1s",
        "outputId": "2db21af0-18f9-4d97-9b65-d8c0661fcb72"
      },
      "execution_count": 72,
      "outputs": [
        {
          "output_type": "execute_result",
          "data": {
            "text/plain": [
              "[<h3 class=\"h3 product-title\">\n",
              "   <a href=\"https://thewinelist.shop/bundles/760837-santa-carolina-couple-pack.html\">Santa Carolina Couple Pack</a>\n",
              " </h3>, <h3 class=\"h3 product-title\">\n",
              "   <a href=\"https://thewinelist.shop/wine-sparkling/33-santa-carolina-brut-chardonnay-nv.html\">Santa Carolina Brut Chardonnay N.V.</a>\n",
              " </h3>, <h3 class=\"h3 product-title\">\n",
              "   <a href=\"https://thewinelist.shop/wine-white/26-santa-carolina-premio-sauvignon-blanc-2014.html\">Santa Carolina Premio Sauvignon Blanc 2014</a>\n",
              " </h3>, <h3 class=\"h3 product-title\">\n",
              "   <a href=\"https://thewinelist.shop/wine/761242-chateau-haut-brion-1er-grand-cru-classe-2013.html\">Chateau HAUT BRION 1er Grand Cru Classe 2013</a>\n",
              " </h3>, <h3 class=\"h3 product-title\">\n",
              "   <a href=\"https://thewinelist.shop/rose/264-hunter-s-wine-marlborough-pinot-noire-rose-2017.html\">Hunter's Pinot Noir Rose 2017</a>\n",
              " </h3>, <h3 class=\"h3 product-title\">\n",
              "   <a href=\"https://thewinelist.shop/sweet-wines/172-brown-brothers-moscato-2017.html\">Brown Brothers Moscato</a>\n",
              " </h3>, <h3 class=\"h3 product-title\">\n",
              "   <a href=\"https://thewinelist.shop/wine-sparkling/88-blue-nun-blue-nun-sparkling-nv.html\">Blue Nun Blue Nun Sparkling Wine N.V.</a>\n",
              " </h3>, <h3 class=\"h3 product-title\">\n",
              "   <a href=\"https://thewinelist.shop/wine-white/28-santa-carolina-sauvignon-blanc-semillon-vistana-2017.html\">Santa Carolina SAUVIGNON BLANC SEMILLON &quot;Vistana&quot; 2017</a>\n",
              " </h3>, <h3 class=\"h3 product-title\">\n",
              "   <a href=\"https://thewinelist.shop/wine-red/24-mascota-vineyards-big-bat-cabernet-sauvignon-2015.html\">Mascota Vineyards Big Bat Cabernet Sauvignon 2014</a>\n",
              " </h3>, <h3 class=\"h3 product-title\">\n",
              "   <a href=\"https://thewinelist.shop/sweet-wines/273-chateau-d-yquem-1er-grand-cru-classe-eceptionnel-2014.html\">Chateau d'Yquem 1er Grand Cru Classé Eceptionnel 2014 (375ml.)</a>\n",
              " </h3>, <h3 class=\"h3 product-title\">\n",
              "   <a href=\"https://thewinelist.shop/wine-sparkling/89-blue-nun-24k-gold-edition-24k-gold-edition-nv.html\">Blue Nun Blue Nun 24K Gold Edition N.V.</a>\n",
              " </h3>, <h3 class=\"h3 product-title\">\n",
              "   <a href=\"https://thewinelist.shop/wine-white/31-santa-carolina-cellar-selection-sauvignon-blanc-2017.html\">Santa Carolina Cellar Selection Sauvignon Blanc 2017</a>\n",
              " </h3>, <h3 class=\"h3 product-title\">\n",
              "   <a href=\"https://thewinelist.shop/rose/279-bodvar-house-of-rose-n-1-pearly-rose-cinsault-2016.html\">Bodvar Bodvár N° 1 Rosé , Lightly Sparkling Wine 2016</a>\n",
              " </h3>, <h3 class=\"h3 product-title\">\n",
              "   <a href=\"https://thewinelist.shop/sweet-wines/274-chateau-d-arche-2em-vin-soleil-d-arche-2012.html\">Chateau D'ARCHE 2em Vin SOLEIL D'ARCHE 2012</a>\n",
              " </h3>, <h3 class=\"h3 product-title\">\n",
              "   <a href=\"https://thewinelist.shop/wine-sparkling/164-gancia-prosecco-spumante-prosecco-spumante-doc-nv.html\">Gancia Prosecco Nv</a>\n",
              " </h3>, <h3 class=\"h3 product-title\">\n",
              "   <a href=\"https://thewinelist.shop/wine-white/32-santa-carolina-cellar-selection-chardonnay-2017.html\">Santa Carolina Cellar Selection Chardonnay 2017</a>\n",
              " </h3>, <h3 class=\"h3 product-title\">\n",
              "   <a href=\"https://thewinelist.shop/wine-red/27-santa-carolina-vistana-cabernet-sauvignon-merlot-2014.html\">Santa Carolina Vistana Cabernet Sauvignon Merlot 2014</a>\n",
              " </h3>, <h3 class=\"h3 product-title\">\n",
              "   <a href=\"https://thewinelist.shop/rose/280-bodvar-house-of-rose-bodvar-n-5-rose-grenache-cinsault-and-rolle-2017.html\">BODVÁR House of Rose BODVÁR N° 5 ROSÉ Grenache, Cinsault and Rolle 2017</a>\n",
              " </h3>, <h3 class=\"h3 product-title\">\n",
              "   <a href=\"https://thewinelist.shop/sweet-wines/275-chateau-doisy-vedrines-2em-grand-cru-classe-1993.html\">Chateau Doisy Vedrines 2em Grand Cru Classe 1993</a>\n",
              " </h3>, <h3 class=\"h3 product-title\">\n",
              "   <a href=\"https://thewinelist.shop/wine-sparkling/165-rivani-prosecco-spumante-prosecco-spumante-doc-nv.html\">Rivani Prosecco Spumante Extra Dry Nv</a>\n",
              " </h3>, <h3 class=\"h3 product-title\">\n",
              "   <a href=\"https://thewinelist.shop/wine-white/36-santa-carolina-estrellas-sauvignon-blanc-2016.html\">Santa Carolina Sauvignon Blanc &quot;Estrellas&quot; 2016</a>\n",
              " </h3>, <h3 class=\"h3 product-title\">\n",
              "   <a href=\"https://thewinelist.shop/rose/281-bodvar-house-of-rose-bodvar-n-7-rose-grenache-cinsault-and-syrah-2017.html\">BODVÁR House of Rose BODVÁR N° 7 ROSÉ Grenache, Cinsault and Syrah 2017</a>\n",
              " </h3>, <h3 class=\"h3 product-title\">\n",
              "   <a href=\"https://thewinelist.shop/sweet-wines/276-chateau-doisy-daene-2em-grand-cru-classe-1996.html\">Ch. Doisy Daene 2Em Grand Cru Classé 1996</a>\n",
              " </h3>, <h3 class=\"h3 product-title\">\n",
              "   <a href=\"https://thewinelist.shop/wine-sparkling/166-rivani-vino-spumante-dolce-moscato-nv.html\">Rivani Moscato Spumante Dolce Nv</a>\n",
              " </h3>]"
            ]
          },
          "metadata": {},
          "execution_count": 72
        }
      ]
    },
    {
      "cell_type": "markdown",
      "source": [
        "### **Title**"
      ],
      "metadata": {
        "id": "B-U1Tl2WYne8"
      }
    },
    {
      "cell_type": "code",
      "source": [
        "wine.find(\"h3\", {'class': 'h3 product-title'}, mode='first').strip()"
      ],
      "metadata": {
        "colab": {
          "base_uri": "https://localhost:8080/",
          "height": 35
        },
        "id": "74f-9Fle-I3x",
        "outputId": "b70d9e0b-a4f4-4d6c-b9ad-2860a7fe910b"
      },
      "execution_count": 73,
      "outputs": [
        {
          "output_type": "execute_result",
          "data": {
            "text/plain": [
              "'Santa Carolina Couple Pack'"
            ],
            "application/vnd.google.colaboratory.intrinsic+json": {
              "type": "string"
            }
          },
          "metadata": {},
          "execution_count": 73
        }
      ]
    },
    {
      "cell_type": "code",
      "source": [
        "titles = wine.find(\"h3\", {'class': 'h3 product-title'})\n",
        "\n",
        "clean_titles = [title.strip() for title in titles]\n",
        "\n",
        "list(clean_titles)"
      ],
      "metadata": {
        "colab": {
          "base_uri": "https://localhost:8080/"
        },
        "id": "l3IdGItR_m6k",
        "outputId": "aeb0e5a9-4030-4e20-dad5-bee6c7e29473"
      },
      "execution_count": 74,
      "outputs": [
        {
          "output_type": "execute_result",
          "data": {
            "text/plain": [
              "['Santa Carolina Couple Pack',\n",
              " 'Santa Carolina Brut Chardonnay N.V.',\n",
              " 'Santa Carolina Premio Sauvignon Blanc 2014',\n",
              " 'Chateau HAUT BRION 1er Grand Cru Classe 2013',\n",
              " \"Hunter's Pinot Noir Rose 2017\",\n",
              " 'Brown Brothers Moscato',\n",
              " 'Blue Nun Blue Nun Sparkling Wine N.V.',\n",
              " 'Santa Carolina SAUVIGNON BLANC SEMILLON \"Vistana\" 2017',\n",
              " 'Mascota Vineyards Big Bat Cabernet Sauvignon 2014',\n",
              " \"Chateau d'Yquem 1er Grand Cru Classé Eceptionnel 2014 (375ml.)\",\n",
              " 'Blue Nun Blue Nun 24K Gold Edition N.V.',\n",
              " 'Santa Carolina Cellar Selection Sauvignon Blanc 2017',\n",
              " 'Bodvar Bodvár N° 1 Rosé , Lightly Sparkling Wine 2016',\n",
              " \"Chateau D'ARCHE 2em Vin SOLEIL D'ARCHE 2012\",\n",
              " 'Gancia Prosecco Nv',\n",
              " 'Santa Carolina Cellar Selection Chardonnay 2017',\n",
              " 'Santa Carolina Vistana Cabernet Sauvignon Merlot 2014',\n",
              " 'BODVÁR House of Rose BODVÁR N° 5 ROSÉ Grenache, Cinsault and Rolle 2017',\n",
              " 'Chateau Doisy Vedrines 2em Grand Cru Classe 1993',\n",
              " 'Rivani Prosecco Spumante Extra Dry Nv',\n",
              " 'Santa Carolina Sauvignon Blanc \"Estrellas\" 2016',\n",
              " 'BODVÁR House of Rose BODVÁR N° 7 ROSÉ Grenache, Cinsault and Syrah 2017',\n",
              " 'Ch. Doisy Daene 2Em Grand Cru Classé 1996',\n",
              " 'Rivani Moscato Spumante Dolce Nv']"
            ]
          },
          "metadata": {},
          "execution_count": 74
        }
      ]
    },
    {
      "cell_type": "markdown",
      "source": [
        "### **Price**"
      ],
      "metadata": {
        "id": "AWagsX_rYwxa"
      }
    },
    {
      "cell_type": "code",
      "source": [
        "wine.find(\"span\", {'class': 'product-price'},mode='first').strip()"
      ],
      "metadata": {
        "colab": {
          "base_uri": "https://localhost:8080/",
          "height": 35
        },
        "id": "KIWbE5Tx_z76",
        "outputId": "64990905-b586-44a2-8635-350327b98be5"
      },
      "execution_count": 75,
      "outputs": [
        {
          "output_type": "execute_result",
          "data": {
            "text/plain": [
              "'฿1,499.00'"
            ],
            "application/vnd.google.colaboratory.intrinsic+json": {
              "type": "string"
            }
          },
          "metadata": {},
          "execution_count": 75
        }
      ]
    },
    {
      "cell_type": "code",
      "source": [
        "prices = wine.find(\"span\", {'class': 'product-price'})\n",
        "prices = [price.strip() for price in prices]\n",
        "\n",
        "list(prices)"
      ],
      "metadata": {
        "colab": {
          "base_uri": "https://localhost:8080/"
        },
        "id": "eMb8gfWYAjsR",
        "outputId": "98b65824-6d42-450c-cbb4-28576d9f3f17"
      },
      "execution_count": 76,
      "outputs": [
        {
          "output_type": "execute_result",
          "data": {
            "text/plain": [
              "['฿1,499.00',\n",
              " '฿790.00',\n",
              " '฿590.00',\n",
              " '฿39,000.00',\n",
              " '฿880.00',\n",
              " '฿740.00',\n",
              " '฿630.00',\n",
              " '฿590.00',\n",
              " '฿2,650.00',\n",
              " '฿24,610.00',\n",
              " '฿990.00',\n",
              " '฿535.00',\n",
              " '฿1,230.00',\n",
              " '฿3,200.00',\n",
              " '฿800.00',\n",
              " '฿535.00',\n",
              " '฿625.00',\n",
              " '฿1,810.00',\n",
              " '฿3,200.00',\n",
              " '฿825.00',\n",
              " '฿570.00',\n",
              " '฿1,595.00',\n",
              " '฿3,950.00',\n",
              " '฿660.00']"
            ]
          },
          "metadata": {},
          "execution_count": 76
        }
      ]
    },
    {
      "cell_type": "markdown",
      "source": [
        "### **Category**"
      ],
      "metadata": {
        "id": "Bo7YbYA1Y0Xt"
      }
    },
    {
      "cell_type": "code",
      "source": [
        "wine.find(\"div\", {'class': 'product-category-name text-muted'},mode='first').strip()"
      ],
      "metadata": {
        "colab": {
          "base_uri": "https://localhost:8080/",
          "height": 35
        },
        "id": "OcCUdY_coafG",
        "outputId": "939a6692-4f26-4033-bcd2-c617719b2973"
      },
      "execution_count": 77,
      "outputs": [
        {
          "output_type": "execute_result",
          "data": {
            "text/plain": [
              "'Bundles'"
            ],
            "application/vnd.google.colaboratory.intrinsic+json": {
              "type": "string"
            }
          },
          "metadata": {},
          "execution_count": 77
        }
      ]
    },
    {
      "cell_type": "code",
      "source": [
        "categories = wine.find(\"div\", {'class': 'product-category-name text-muted'})\n",
        "categories = [category.strip() for category in categories]\n",
        "\n",
        "list(categories)"
      ],
      "metadata": {
        "colab": {
          "base_uri": "https://localhost:8080/"
        },
        "id": "s7S6yXPmoavt",
        "outputId": "342e50e2-4d5c-45d4-804a-e3f63e01f1d3"
      },
      "execution_count": 79,
      "outputs": [
        {
          "output_type": "execute_result",
          "data": {
            "text/plain": [
              "['Bundles',\n",
              " 'Sparkling',\n",
              " 'White',\n",
              " 'Wine',\n",
              " 'Rose',\n",
              " 'Sweet Wines',\n",
              " 'Sparkling',\n",
              " 'White',\n",
              " 'Red',\n",
              " 'Sweet Wines',\n",
              " 'Sparkling',\n",
              " 'White',\n",
              " 'Rose',\n",
              " 'Sweet Wines',\n",
              " 'Sparkling',\n",
              " 'White',\n",
              " 'Red',\n",
              " 'Rose',\n",
              " 'Sweet Wines',\n",
              " 'Sparkling',\n",
              " 'White',\n",
              " 'Rose',\n",
              " 'Sweet Wines',\n",
              " 'Sparkling']"
            ]
          },
          "metadata": {},
          "execution_count": 79
        }
      ]
    },
    {
      "cell_type": "markdown",
      "source": [
        "### **DataFrame**"
      ],
      "metadata": {
        "id": "U1Fjo4tgY4Jp"
      }
    },
    {
      "cell_type": "code",
      "source": [
        "import pandas as pd\n",
        "wine_df = pd.DataFrame({\n",
        "    \"Title\": clean_titles,\n",
        "    \"Price\": prices,\n",
        "    \"Category\": categories\n",
        "})\n",
        "\n",
        "wine_df.head(10)"
      ],
      "metadata": {
        "colab": {
          "base_uri": "https://localhost:8080/",
          "height": 363
        },
        "id": "rpWzG0DJnfdk",
        "outputId": "3d28daf6-d8b8-4138-8b66-2cbbc8a7fbd6"
      },
      "execution_count": 81,
      "outputs": [
        {
          "output_type": "execute_result",
          "data": {
            "text/plain": [
              "                                               Title       Price     Category\n",
              "0                         Santa Carolina Couple Pack   ฿1,499.00      Bundles\n",
              "1                Santa Carolina Brut Chardonnay N.V.     ฿790.00    Sparkling\n",
              "2         Santa Carolina Premio Sauvignon Blanc 2014     ฿590.00        White\n",
              "3       Chateau HAUT BRION 1er Grand Cru Classe 2013  ฿39,000.00         Wine\n",
              "4                      Hunter's Pinot Noir Rose 2017     ฿880.00         Rose\n",
              "5                             Brown Brothers Moscato     ฿740.00  Sweet Wines\n",
              "6              Blue Nun Blue Nun Sparkling Wine N.V.     ฿630.00    Sparkling\n",
              "7  Santa Carolina SAUVIGNON BLANC SEMILLON \"Vista...     ฿590.00        White\n",
              "8  Mascota Vineyards Big Bat Cabernet Sauvignon 2014   ฿2,650.00          Red\n",
              "9  Chateau d'Yquem 1er Grand Cru Classé Eceptionn...  ฿24,610.00  Sweet Wines"
            ],
            "text/html": [
              "\n",
              "  <div id=\"df-2ac2bc27-7ed7-4acc-99b7-6600f3145d72\">\n",
              "    <div class=\"colab-df-container\">\n",
              "      <div>\n",
              "<style scoped>\n",
              "    .dataframe tbody tr th:only-of-type {\n",
              "        vertical-align: middle;\n",
              "    }\n",
              "\n",
              "    .dataframe tbody tr th {\n",
              "        vertical-align: top;\n",
              "    }\n",
              "\n",
              "    .dataframe thead th {\n",
              "        text-align: right;\n",
              "    }\n",
              "</style>\n",
              "<table border=\"1\" class=\"dataframe\">\n",
              "  <thead>\n",
              "    <tr style=\"text-align: right;\">\n",
              "      <th></th>\n",
              "      <th>Title</th>\n",
              "      <th>Price</th>\n",
              "      <th>Category</th>\n",
              "    </tr>\n",
              "  </thead>\n",
              "  <tbody>\n",
              "    <tr>\n",
              "      <th>0</th>\n",
              "      <td>Santa Carolina Couple Pack</td>\n",
              "      <td>฿1,499.00</td>\n",
              "      <td>Bundles</td>\n",
              "    </tr>\n",
              "    <tr>\n",
              "      <th>1</th>\n",
              "      <td>Santa Carolina Brut Chardonnay N.V.</td>\n",
              "      <td>฿790.00</td>\n",
              "      <td>Sparkling</td>\n",
              "    </tr>\n",
              "    <tr>\n",
              "      <th>2</th>\n",
              "      <td>Santa Carolina Premio Sauvignon Blanc 2014</td>\n",
              "      <td>฿590.00</td>\n",
              "      <td>White</td>\n",
              "    </tr>\n",
              "    <tr>\n",
              "      <th>3</th>\n",
              "      <td>Chateau HAUT BRION 1er Grand Cru Classe 2013</td>\n",
              "      <td>฿39,000.00</td>\n",
              "      <td>Wine</td>\n",
              "    </tr>\n",
              "    <tr>\n",
              "      <th>4</th>\n",
              "      <td>Hunter's Pinot Noir Rose 2017</td>\n",
              "      <td>฿880.00</td>\n",
              "      <td>Rose</td>\n",
              "    </tr>\n",
              "    <tr>\n",
              "      <th>5</th>\n",
              "      <td>Brown Brothers Moscato</td>\n",
              "      <td>฿740.00</td>\n",
              "      <td>Sweet Wines</td>\n",
              "    </tr>\n",
              "    <tr>\n",
              "      <th>6</th>\n",
              "      <td>Blue Nun Blue Nun Sparkling Wine N.V.</td>\n",
              "      <td>฿630.00</td>\n",
              "      <td>Sparkling</td>\n",
              "    </tr>\n",
              "    <tr>\n",
              "      <th>7</th>\n",
              "      <td>Santa Carolina SAUVIGNON BLANC SEMILLON \"Vista...</td>\n",
              "      <td>฿590.00</td>\n",
              "      <td>White</td>\n",
              "    </tr>\n",
              "    <tr>\n",
              "      <th>8</th>\n",
              "      <td>Mascota Vineyards Big Bat Cabernet Sauvignon 2014</td>\n",
              "      <td>฿2,650.00</td>\n",
              "      <td>Red</td>\n",
              "    </tr>\n",
              "    <tr>\n",
              "      <th>9</th>\n",
              "      <td>Chateau d'Yquem 1er Grand Cru Classé Eceptionn...</td>\n",
              "      <td>฿24,610.00</td>\n",
              "      <td>Sweet Wines</td>\n",
              "    </tr>\n",
              "  </tbody>\n",
              "</table>\n",
              "</div>\n",
              "      <button class=\"colab-df-convert\" onclick=\"convertToInteractive('df-2ac2bc27-7ed7-4acc-99b7-6600f3145d72')\"\n",
              "              title=\"Convert this dataframe to an interactive table.\"\n",
              "              style=\"display:none;\">\n",
              "        \n",
              "  <svg xmlns=\"http://www.w3.org/2000/svg\" height=\"24px\"viewBox=\"0 0 24 24\"\n",
              "       width=\"24px\">\n",
              "    <path d=\"M0 0h24v24H0V0z\" fill=\"none\"/>\n",
              "    <path d=\"M18.56 5.44l.94 2.06.94-2.06 2.06-.94-2.06-.94-.94-2.06-.94 2.06-2.06.94zm-11 1L8.5 8.5l.94-2.06 2.06-.94-2.06-.94L8.5 2.5l-.94 2.06-2.06.94zm10 10l.94 2.06.94-2.06 2.06-.94-2.06-.94-.94-2.06-.94 2.06-2.06.94z\"/><path d=\"M17.41 7.96l-1.37-1.37c-.4-.4-.92-.59-1.43-.59-.52 0-1.04.2-1.43.59L10.3 9.45l-7.72 7.72c-.78.78-.78 2.05 0 2.83L4 21.41c.39.39.9.59 1.41.59.51 0 1.02-.2 1.41-.59l7.78-7.78 2.81-2.81c.8-.78.8-2.07 0-2.86zM5.41 20L4 18.59l7.72-7.72 1.47 1.35L5.41 20z\"/>\n",
              "  </svg>\n",
              "      </button>\n",
              "      \n",
              "  <style>\n",
              "    .colab-df-container {\n",
              "      display:flex;\n",
              "      flex-wrap:wrap;\n",
              "      gap: 12px;\n",
              "    }\n",
              "\n",
              "    .colab-df-convert {\n",
              "      background-color: #E8F0FE;\n",
              "      border: none;\n",
              "      border-radius: 50%;\n",
              "      cursor: pointer;\n",
              "      display: none;\n",
              "      fill: #1967D2;\n",
              "      height: 32px;\n",
              "      padding: 0 0 0 0;\n",
              "      width: 32px;\n",
              "    }\n",
              "\n",
              "    .colab-df-convert:hover {\n",
              "      background-color: #E2EBFA;\n",
              "      box-shadow: 0px 1px 2px rgba(60, 64, 67, 0.3), 0px 1px 3px 1px rgba(60, 64, 67, 0.15);\n",
              "      fill: #174EA6;\n",
              "    }\n",
              "\n",
              "    [theme=dark] .colab-df-convert {\n",
              "      background-color: #3B4455;\n",
              "      fill: #D2E3FC;\n",
              "    }\n",
              "\n",
              "    [theme=dark] .colab-df-convert:hover {\n",
              "      background-color: #434B5C;\n",
              "      box-shadow: 0px 1px 3px 1px rgba(0, 0, 0, 0.15);\n",
              "      filter: drop-shadow(0px 1px 2px rgba(0, 0, 0, 0.3));\n",
              "      fill: #FFFFFF;\n",
              "    }\n",
              "  </style>\n",
              "\n",
              "      <script>\n",
              "        const buttonEl =\n",
              "          document.querySelector('#df-2ac2bc27-7ed7-4acc-99b7-6600f3145d72 button.colab-df-convert');\n",
              "        buttonEl.style.display =\n",
              "          google.colab.kernel.accessAllowed ? 'block' : 'none';\n",
              "\n",
              "        async function convertToInteractive(key) {\n",
              "          const element = document.querySelector('#df-2ac2bc27-7ed7-4acc-99b7-6600f3145d72');\n",
              "          const dataTable =\n",
              "            await google.colab.kernel.invokeFunction('convertToInteractive',\n",
              "                                                     [key], {});\n",
              "          if (!dataTable) return;\n",
              "\n",
              "          const docLinkHtml = 'Like what you see? Visit the ' +\n",
              "            '<a target=\"_blank\" href=https://colab.research.google.com/notebooks/data_table.ipynb>data table notebook</a>'\n",
              "            + ' to learn more about interactive tables.';\n",
              "          element.innerHTML = '';\n",
              "          dataTable['output_type'] = 'display_data';\n",
              "          await google.colab.output.renderOutput(dataTable, element);\n",
              "          const docLink = document.createElement('div');\n",
              "          docLink.innerHTML = docLinkHtml;\n",
              "          element.appendChild(docLink);\n",
              "        }\n",
              "      </script>\n",
              "    </div>\n",
              "  </div>\n",
              "  "
            ]
          },
          "metadata": {},
          "execution_count": 81
        }
      ]
    },
    {
      "cell_type": "markdown",
      "source": [
        "---"
      ],
      "metadata": {
        "id": "XkKxV6aQLIGG"
      }
    },
    {
      "cell_type": "markdown",
      "source": [
        "### 1) Number of available bottle of wines by each category"
      ],
      "metadata": {
        "id": "XXw5LSAyBBEc"
      }
    },
    {
      "cell_type": "code",
      "source": [
        "wine_df['Category'].value_counts().reset_index()"
      ],
      "metadata": {
        "colab": {
          "base_uri": "https://localhost:8080/",
          "height": 269
        },
        "id": "4ovx3GyY-MRP",
        "outputId": "48256e76-1e92-45ac-97bb-19aa02db7408"
      },
      "execution_count": 82,
      "outputs": [
        {
          "output_type": "execute_result",
          "data": {
            "text/plain": [
              "         index  Category\n",
              "0    Sparkling         6\n",
              "1        White         5\n",
              "2  Sweet Wines         5\n",
              "3         Rose         4\n",
              "4          Red         2\n",
              "5      Bundles         1\n",
              "6         Wine         1"
            ],
            "text/html": [
              "\n",
              "  <div id=\"df-3af83653-6219-410e-8492-5cf04dea1369\">\n",
              "    <div class=\"colab-df-container\">\n",
              "      <div>\n",
              "<style scoped>\n",
              "    .dataframe tbody tr th:only-of-type {\n",
              "        vertical-align: middle;\n",
              "    }\n",
              "\n",
              "    .dataframe tbody tr th {\n",
              "        vertical-align: top;\n",
              "    }\n",
              "\n",
              "    .dataframe thead th {\n",
              "        text-align: right;\n",
              "    }\n",
              "</style>\n",
              "<table border=\"1\" class=\"dataframe\">\n",
              "  <thead>\n",
              "    <tr style=\"text-align: right;\">\n",
              "      <th></th>\n",
              "      <th>index</th>\n",
              "      <th>Category</th>\n",
              "    </tr>\n",
              "  </thead>\n",
              "  <tbody>\n",
              "    <tr>\n",
              "      <th>0</th>\n",
              "      <td>Sparkling</td>\n",
              "      <td>6</td>\n",
              "    </tr>\n",
              "    <tr>\n",
              "      <th>1</th>\n",
              "      <td>White</td>\n",
              "      <td>5</td>\n",
              "    </tr>\n",
              "    <tr>\n",
              "      <th>2</th>\n",
              "      <td>Sweet Wines</td>\n",
              "      <td>5</td>\n",
              "    </tr>\n",
              "    <tr>\n",
              "      <th>3</th>\n",
              "      <td>Rose</td>\n",
              "      <td>4</td>\n",
              "    </tr>\n",
              "    <tr>\n",
              "      <th>4</th>\n",
              "      <td>Red</td>\n",
              "      <td>2</td>\n",
              "    </tr>\n",
              "    <tr>\n",
              "      <th>5</th>\n",
              "      <td>Bundles</td>\n",
              "      <td>1</td>\n",
              "    </tr>\n",
              "    <tr>\n",
              "      <th>6</th>\n",
              "      <td>Wine</td>\n",
              "      <td>1</td>\n",
              "    </tr>\n",
              "  </tbody>\n",
              "</table>\n",
              "</div>\n",
              "      <button class=\"colab-df-convert\" onclick=\"convertToInteractive('df-3af83653-6219-410e-8492-5cf04dea1369')\"\n",
              "              title=\"Convert this dataframe to an interactive table.\"\n",
              "              style=\"display:none;\">\n",
              "        \n",
              "  <svg xmlns=\"http://www.w3.org/2000/svg\" height=\"24px\"viewBox=\"0 0 24 24\"\n",
              "       width=\"24px\">\n",
              "    <path d=\"M0 0h24v24H0V0z\" fill=\"none\"/>\n",
              "    <path d=\"M18.56 5.44l.94 2.06.94-2.06 2.06-.94-2.06-.94-.94-2.06-.94 2.06-2.06.94zm-11 1L8.5 8.5l.94-2.06 2.06-.94-2.06-.94L8.5 2.5l-.94 2.06-2.06.94zm10 10l.94 2.06.94-2.06 2.06-.94-2.06-.94-.94-2.06-.94 2.06-2.06.94z\"/><path d=\"M17.41 7.96l-1.37-1.37c-.4-.4-.92-.59-1.43-.59-.52 0-1.04.2-1.43.59L10.3 9.45l-7.72 7.72c-.78.78-.78 2.05 0 2.83L4 21.41c.39.39.9.59 1.41.59.51 0 1.02-.2 1.41-.59l7.78-7.78 2.81-2.81c.8-.78.8-2.07 0-2.86zM5.41 20L4 18.59l7.72-7.72 1.47 1.35L5.41 20z\"/>\n",
              "  </svg>\n",
              "      </button>\n",
              "      \n",
              "  <style>\n",
              "    .colab-df-container {\n",
              "      display:flex;\n",
              "      flex-wrap:wrap;\n",
              "      gap: 12px;\n",
              "    }\n",
              "\n",
              "    .colab-df-convert {\n",
              "      background-color: #E8F0FE;\n",
              "      border: none;\n",
              "      border-radius: 50%;\n",
              "      cursor: pointer;\n",
              "      display: none;\n",
              "      fill: #1967D2;\n",
              "      height: 32px;\n",
              "      padding: 0 0 0 0;\n",
              "      width: 32px;\n",
              "    }\n",
              "\n",
              "    .colab-df-convert:hover {\n",
              "      background-color: #E2EBFA;\n",
              "      box-shadow: 0px 1px 2px rgba(60, 64, 67, 0.3), 0px 1px 3px 1px rgba(60, 64, 67, 0.15);\n",
              "      fill: #174EA6;\n",
              "    }\n",
              "\n",
              "    [theme=dark] .colab-df-convert {\n",
              "      background-color: #3B4455;\n",
              "      fill: #D2E3FC;\n",
              "    }\n",
              "\n",
              "    [theme=dark] .colab-df-convert:hover {\n",
              "      background-color: #434B5C;\n",
              "      box-shadow: 0px 1px 3px 1px rgba(0, 0, 0, 0.15);\n",
              "      filter: drop-shadow(0px 1px 2px rgba(0, 0, 0, 0.3));\n",
              "      fill: #FFFFFF;\n",
              "    }\n",
              "  </style>\n",
              "\n",
              "      <script>\n",
              "        const buttonEl =\n",
              "          document.querySelector('#df-3af83653-6219-410e-8492-5cf04dea1369 button.colab-df-convert');\n",
              "        buttonEl.style.display =\n",
              "          google.colab.kernel.accessAllowed ? 'block' : 'none';\n",
              "\n",
              "        async function convertToInteractive(key) {\n",
              "          const element = document.querySelector('#df-3af83653-6219-410e-8492-5cf04dea1369');\n",
              "          const dataTable =\n",
              "            await google.colab.kernel.invokeFunction('convertToInteractive',\n",
              "                                                     [key], {});\n",
              "          if (!dataTable) return;\n",
              "\n",
              "          const docLinkHtml = 'Like what you see? Visit the ' +\n",
              "            '<a target=\"_blank\" href=https://colab.research.google.com/notebooks/data_table.ipynb>data table notebook</a>'\n",
              "            + ' to learn more about interactive tables.';\n",
              "          element.innerHTML = '';\n",
              "          dataTable['output_type'] = 'display_data';\n",
              "          await google.colab.output.renderOutput(dataTable, element);\n",
              "          const docLink = document.createElement('div');\n",
              "          docLink.innerHTML = docLinkHtml;\n",
              "          element.appendChild(docLink);\n",
              "        }\n",
              "      </script>\n",
              "    </div>\n",
              "  </div>\n",
              "  "
            ]
          },
          "metadata": {},
          "execution_count": 82
        }
      ]
    },
    {
      "cell_type": "markdown",
      "source": [
        "### 2) Top 5 of the most expensive Sparkling"
      ],
      "metadata": {
        "id": "Q4oRJjof549G"
      }
    },
    {
      "cell_type": "code",
      "source": [
        "result = wine_df.query(\"Category == 'Sparkling'\")\n",
        "result.head(5).sort_values(by='Price',axis=0,ascending=False).reset_index(drop=True)"
      ],
      "metadata": {
        "colab": {
          "base_uri": "https://localhost:8080/",
          "height": 206
        },
        "id": "q8gRle6Y6O9J",
        "outputId": "ce1c8212-a4e9-43df-b150-d34011cab8fc"
      },
      "execution_count": 83,
      "outputs": [
        {
          "output_type": "execute_result",
          "data": {
            "text/plain": [
              "                                     Title    Price   Category\n",
              "0  Blue Nun Blue Nun 24K Gold Edition N.V.  ฿990.00  Sparkling\n",
              "1    Rivani Prosecco Spumante Extra Dry Nv  ฿825.00  Sparkling\n",
              "2                       Gancia Prosecco Nv  ฿800.00  Sparkling\n",
              "3      Santa Carolina Brut Chardonnay N.V.  ฿790.00  Sparkling\n",
              "4    Blue Nun Blue Nun Sparkling Wine N.V.  ฿630.00  Sparkling"
            ],
            "text/html": [
              "\n",
              "  <div id=\"df-4612e61a-2618-437a-95bf-343114ffe05f\">\n",
              "    <div class=\"colab-df-container\">\n",
              "      <div>\n",
              "<style scoped>\n",
              "    .dataframe tbody tr th:only-of-type {\n",
              "        vertical-align: middle;\n",
              "    }\n",
              "\n",
              "    .dataframe tbody tr th {\n",
              "        vertical-align: top;\n",
              "    }\n",
              "\n",
              "    .dataframe thead th {\n",
              "        text-align: right;\n",
              "    }\n",
              "</style>\n",
              "<table border=\"1\" class=\"dataframe\">\n",
              "  <thead>\n",
              "    <tr style=\"text-align: right;\">\n",
              "      <th></th>\n",
              "      <th>Title</th>\n",
              "      <th>Price</th>\n",
              "      <th>Category</th>\n",
              "    </tr>\n",
              "  </thead>\n",
              "  <tbody>\n",
              "    <tr>\n",
              "      <th>0</th>\n",
              "      <td>Blue Nun Blue Nun 24K Gold Edition N.V.</td>\n",
              "      <td>฿990.00</td>\n",
              "      <td>Sparkling</td>\n",
              "    </tr>\n",
              "    <tr>\n",
              "      <th>1</th>\n",
              "      <td>Rivani Prosecco Spumante Extra Dry Nv</td>\n",
              "      <td>฿825.00</td>\n",
              "      <td>Sparkling</td>\n",
              "    </tr>\n",
              "    <tr>\n",
              "      <th>2</th>\n",
              "      <td>Gancia Prosecco Nv</td>\n",
              "      <td>฿800.00</td>\n",
              "      <td>Sparkling</td>\n",
              "    </tr>\n",
              "    <tr>\n",
              "      <th>3</th>\n",
              "      <td>Santa Carolina Brut Chardonnay N.V.</td>\n",
              "      <td>฿790.00</td>\n",
              "      <td>Sparkling</td>\n",
              "    </tr>\n",
              "    <tr>\n",
              "      <th>4</th>\n",
              "      <td>Blue Nun Blue Nun Sparkling Wine N.V.</td>\n",
              "      <td>฿630.00</td>\n",
              "      <td>Sparkling</td>\n",
              "    </tr>\n",
              "  </tbody>\n",
              "</table>\n",
              "</div>\n",
              "      <button class=\"colab-df-convert\" onclick=\"convertToInteractive('df-4612e61a-2618-437a-95bf-343114ffe05f')\"\n",
              "              title=\"Convert this dataframe to an interactive table.\"\n",
              "              style=\"display:none;\">\n",
              "        \n",
              "  <svg xmlns=\"http://www.w3.org/2000/svg\" height=\"24px\"viewBox=\"0 0 24 24\"\n",
              "       width=\"24px\">\n",
              "    <path d=\"M0 0h24v24H0V0z\" fill=\"none\"/>\n",
              "    <path d=\"M18.56 5.44l.94 2.06.94-2.06 2.06-.94-2.06-.94-.94-2.06-.94 2.06-2.06.94zm-11 1L8.5 8.5l.94-2.06 2.06-.94-2.06-.94L8.5 2.5l-.94 2.06-2.06.94zm10 10l.94 2.06.94-2.06 2.06-.94-2.06-.94-.94-2.06-.94 2.06-2.06.94z\"/><path d=\"M17.41 7.96l-1.37-1.37c-.4-.4-.92-.59-1.43-.59-.52 0-1.04.2-1.43.59L10.3 9.45l-7.72 7.72c-.78.78-.78 2.05 0 2.83L4 21.41c.39.39.9.59 1.41.59.51 0 1.02-.2 1.41-.59l7.78-7.78 2.81-2.81c.8-.78.8-2.07 0-2.86zM5.41 20L4 18.59l7.72-7.72 1.47 1.35L5.41 20z\"/>\n",
              "  </svg>\n",
              "      </button>\n",
              "      \n",
              "  <style>\n",
              "    .colab-df-container {\n",
              "      display:flex;\n",
              "      flex-wrap:wrap;\n",
              "      gap: 12px;\n",
              "    }\n",
              "\n",
              "    .colab-df-convert {\n",
              "      background-color: #E8F0FE;\n",
              "      border: none;\n",
              "      border-radius: 50%;\n",
              "      cursor: pointer;\n",
              "      display: none;\n",
              "      fill: #1967D2;\n",
              "      height: 32px;\n",
              "      padding: 0 0 0 0;\n",
              "      width: 32px;\n",
              "    }\n",
              "\n",
              "    .colab-df-convert:hover {\n",
              "      background-color: #E2EBFA;\n",
              "      box-shadow: 0px 1px 2px rgba(60, 64, 67, 0.3), 0px 1px 3px 1px rgba(60, 64, 67, 0.15);\n",
              "      fill: #174EA6;\n",
              "    }\n",
              "\n",
              "    [theme=dark] .colab-df-convert {\n",
              "      background-color: #3B4455;\n",
              "      fill: #D2E3FC;\n",
              "    }\n",
              "\n",
              "    [theme=dark] .colab-df-convert:hover {\n",
              "      background-color: #434B5C;\n",
              "      box-shadow: 0px 1px 3px 1px rgba(0, 0, 0, 0.15);\n",
              "      filter: drop-shadow(0px 1px 2px rgba(0, 0, 0, 0.3));\n",
              "      fill: #FFFFFF;\n",
              "    }\n",
              "  </style>\n",
              "\n",
              "      <script>\n",
              "        const buttonEl =\n",
              "          document.querySelector('#df-4612e61a-2618-437a-95bf-343114ffe05f button.colab-df-convert');\n",
              "        buttonEl.style.display =\n",
              "          google.colab.kernel.accessAllowed ? 'block' : 'none';\n",
              "\n",
              "        async function convertToInteractive(key) {\n",
              "          const element = document.querySelector('#df-4612e61a-2618-437a-95bf-343114ffe05f');\n",
              "          const dataTable =\n",
              "            await google.colab.kernel.invokeFunction('convertToInteractive',\n",
              "                                                     [key], {});\n",
              "          if (!dataTable) return;\n",
              "\n",
              "          const docLinkHtml = 'Like what you see? Visit the ' +\n",
              "            '<a target=\"_blank\" href=https://colab.research.google.com/notebooks/data_table.ipynb>data table notebook</a>'\n",
              "            + ' to learn more about interactive tables.';\n",
              "          element.innerHTML = '';\n",
              "          dataTable['output_type'] = 'display_data';\n",
              "          await google.colab.output.renderOutput(dataTable, element);\n",
              "          const docLink = document.createElement('div');\n",
              "          docLink.innerHTML = docLinkHtml;\n",
              "          element.appendChild(docLink);\n",
              "        }\n",
              "      </script>\n",
              "    </div>\n",
              "  </div>\n",
              "  "
            ]
          },
          "metadata": {},
          "execution_count": 83
        }
      ]
    },
    {
      "cell_type": "markdown",
      "source": [
        "### 3) Min and Max of price by each category"
      ],
      "metadata": {
        "id": "PxTtmqucJhqQ"
      }
    },
    {
      "cell_type": "code",
      "source": [
        "wine_df.groupby('Category')[[\"Price\"]].aggregate([min, max])"
      ],
      "metadata": {
        "colab": {
          "base_uri": "https://localhost:8080/",
          "height": 332
        },
        "id": "bTXHOv8_HC3q",
        "outputId": "261a6a2a-61ee-4af7-c234-60040511abf0"
      },
      "execution_count": 100,
      "outputs": [
        {
          "output_type": "execute_result",
          "data": {
            "text/plain": [
              "                  Price            \n",
              "                    min         max\n",
              "Category                           \n",
              "Bundles       ฿1,499.00   ฿1,499.00\n",
              "Red           ฿2,650.00     ฿625.00\n",
              "Rose          ฿1,230.00     ฿880.00\n",
              "Sparkling       ฿630.00     ฿990.00\n",
              "Sweet Wines  ฿24,610.00     ฿740.00\n",
              "White           ฿535.00     ฿590.00\n",
              "Wine         ฿39,000.00  ฿39,000.00"
            ],
            "text/html": [
              "\n",
              "  <div id=\"df-dc2f3aec-06c8-4fcb-ba92-82aab61ed6cc\">\n",
              "    <div class=\"colab-df-container\">\n",
              "      <div>\n",
              "<style scoped>\n",
              "    .dataframe tbody tr th:only-of-type {\n",
              "        vertical-align: middle;\n",
              "    }\n",
              "\n",
              "    .dataframe tbody tr th {\n",
              "        vertical-align: top;\n",
              "    }\n",
              "\n",
              "    .dataframe thead tr th {\n",
              "        text-align: left;\n",
              "    }\n",
              "\n",
              "    .dataframe thead tr:last-of-type th {\n",
              "        text-align: right;\n",
              "    }\n",
              "</style>\n",
              "<table border=\"1\" class=\"dataframe\">\n",
              "  <thead>\n",
              "    <tr>\n",
              "      <th></th>\n",
              "      <th colspan=\"2\" halign=\"left\">Price</th>\n",
              "    </tr>\n",
              "    <tr>\n",
              "      <th></th>\n",
              "      <th>min</th>\n",
              "      <th>max</th>\n",
              "    </tr>\n",
              "    <tr>\n",
              "      <th>Category</th>\n",
              "      <th></th>\n",
              "      <th></th>\n",
              "    </tr>\n",
              "  </thead>\n",
              "  <tbody>\n",
              "    <tr>\n",
              "      <th>Bundles</th>\n",
              "      <td>฿1,499.00</td>\n",
              "      <td>฿1,499.00</td>\n",
              "    </tr>\n",
              "    <tr>\n",
              "      <th>Red</th>\n",
              "      <td>฿2,650.00</td>\n",
              "      <td>฿625.00</td>\n",
              "    </tr>\n",
              "    <tr>\n",
              "      <th>Rose</th>\n",
              "      <td>฿1,230.00</td>\n",
              "      <td>฿880.00</td>\n",
              "    </tr>\n",
              "    <tr>\n",
              "      <th>Sparkling</th>\n",
              "      <td>฿630.00</td>\n",
              "      <td>฿990.00</td>\n",
              "    </tr>\n",
              "    <tr>\n",
              "      <th>Sweet Wines</th>\n",
              "      <td>฿24,610.00</td>\n",
              "      <td>฿740.00</td>\n",
              "    </tr>\n",
              "    <tr>\n",
              "      <th>White</th>\n",
              "      <td>฿535.00</td>\n",
              "      <td>฿590.00</td>\n",
              "    </tr>\n",
              "    <tr>\n",
              "      <th>Wine</th>\n",
              "      <td>฿39,000.00</td>\n",
              "      <td>฿39,000.00</td>\n",
              "    </tr>\n",
              "  </tbody>\n",
              "</table>\n",
              "</div>\n",
              "      <button class=\"colab-df-convert\" onclick=\"convertToInteractive('df-dc2f3aec-06c8-4fcb-ba92-82aab61ed6cc')\"\n",
              "              title=\"Convert this dataframe to an interactive table.\"\n",
              "              style=\"display:none;\">\n",
              "        \n",
              "  <svg xmlns=\"http://www.w3.org/2000/svg\" height=\"24px\"viewBox=\"0 0 24 24\"\n",
              "       width=\"24px\">\n",
              "    <path d=\"M0 0h24v24H0V0z\" fill=\"none\"/>\n",
              "    <path d=\"M18.56 5.44l.94 2.06.94-2.06 2.06-.94-2.06-.94-.94-2.06-.94 2.06-2.06.94zm-11 1L8.5 8.5l.94-2.06 2.06-.94-2.06-.94L8.5 2.5l-.94 2.06-2.06.94zm10 10l.94 2.06.94-2.06 2.06-.94-2.06-.94-.94-2.06-.94 2.06-2.06.94z\"/><path d=\"M17.41 7.96l-1.37-1.37c-.4-.4-.92-.59-1.43-.59-.52 0-1.04.2-1.43.59L10.3 9.45l-7.72 7.72c-.78.78-.78 2.05 0 2.83L4 21.41c.39.39.9.59 1.41.59.51 0 1.02-.2 1.41-.59l7.78-7.78 2.81-2.81c.8-.78.8-2.07 0-2.86zM5.41 20L4 18.59l7.72-7.72 1.47 1.35L5.41 20z\"/>\n",
              "  </svg>\n",
              "      </button>\n",
              "      \n",
              "  <style>\n",
              "    .colab-df-container {\n",
              "      display:flex;\n",
              "      flex-wrap:wrap;\n",
              "      gap: 12px;\n",
              "    }\n",
              "\n",
              "    .colab-df-convert {\n",
              "      background-color: #E8F0FE;\n",
              "      border: none;\n",
              "      border-radius: 50%;\n",
              "      cursor: pointer;\n",
              "      display: none;\n",
              "      fill: #1967D2;\n",
              "      height: 32px;\n",
              "      padding: 0 0 0 0;\n",
              "      width: 32px;\n",
              "    }\n",
              "\n",
              "    .colab-df-convert:hover {\n",
              "      background-color: #E2EBFA;\n",
              "      box-shadow: 0px 1px 2px rgba(60, 64, 67, 0.3), 0px 1px 3px 1px rgba(60, 64, 67, 0.15);\n",
              "      fill: #174EA6;\n",
              "    }\n",
              "\n",
              "    [theme=dark] .colab-df-convert {\n",
              "      background-color: #3B4455;\n",
              "      fill: #D2E3FC;\n",
              "    }\n",
              "\n",
              "    [theme=dark] .colab-df-convert:hover {\n",
              "      background-color: #434B5C;\n",
              "      box-shadow: 0px 1px 3px 1px rgba(0, 0, 0, 0.15);\n",
              "      filter: drop-shadow(0px 1px 2px rgba(0, 0, 0, 0.3));\n",
              "      fill: #FFFFFF;\n",
              "    }\n",
              "  </style>\n",
              "\n",
              "      <script>\n",
              "        const buttonEl =\n",
              "          document.querySelector('#df-dc2f3aec-06c8-4fcb-ba92-82aab61ed6cc button.colab-df-convert');\n",
              "        buttonEl.style.display =\n",
              "          google.colab.kernel.accessAllowed ? 'block' : 'none';\n",
              "\n",
              "        async function convertToInteractive(key) {\n",
              "          const element = document.querySelector('#df-dc2f3aec-06c8-4fcb-ba92-82aab61ed6cc');\n",
              "          const dataTable =\n",
              "            await google.colab.kernel.invokeFunction('convertToInteractive',\n",
              "                                                     [key], {});\n",
              "          if (!dataTable) return;\n",
              "\n",
              "          const docLinkHtml = 'Like what you see? Visit the ' +\n",
              "            '<a target=\"_blank\" href=https://colab.research.google.com/notebooks/data_table.ipynb>data table notebook</a>'\n",
              "            + ' to learn more about interactive tables.';\n",
              "          element.innerHTML = '';\n",
              "          dataTable['output_type'] = 'display_data';\n",
              "          await google.colab.output.renderOutput(dataTable, element);\n",
              "          const docLink = document.createElement('div');\n",
              "          docLink.innerHTML = docLinkHtml;\n",
              "          element.appendChild(docLink);\n",
              "        }\n",
              "      </script>\n",
              "    </div>\n",
              "  </div>\n",
              "  "
            ]
          },
          "metadata": {},
          "execution_count": 100
        }
      ]
    }
  ]
}