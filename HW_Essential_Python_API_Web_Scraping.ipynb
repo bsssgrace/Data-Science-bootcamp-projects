{
  "nbformat": 4,
  "nbformat_minor": 0,
  "metadata": {
    "colab": {
      "provenance": [],
      "authorship_tag": "ABX9TyN/mtjqaffAfWyd/zI6om99",
      "include_colab_link": true
    },
    "kernelspec": {
      "name": "python3",
      "display_name": "Python 3"
    },
    "language_info": {
      "name": "python"
    }
  },
  "cells": [
    {
      "cell_type": "markdown",
      "metadata": {
        "id": "view-in-github",
        "colab_type": "text"
      },
      "source": [
        "<a href=\"https://colab.research.google.com/github/bsssgrace/Data-Science-bootcamp-projects/blob/main/HW_Essential_Python_API_Web_Scraping.ipynb\" target=\"_parent\"><img src=\"https://colab.research.google.com/assets/colab-badge.svg\" alt=\"Open In Colab\"/></a>"
      ]
    },
    {
      "cell_type": "markdown",
      "source": [
        "## **API - Scrape & Build DataFrame**"
      ],
      "metadata": {
        "id": "g5HdEnTs7gzG"
      }
    },
    {
      "cell_type": "code",
      "source": [
        "!pip install gazpacho"
      ],
      "metadata": {
        "colab": {
          "base_uri": "https://localhost:8080/"
        },
        "id": "bdcnVqKh9S8E",
        "outputId": "1b809a17-c339-467b-cf91-180a56e44563"
      },
      "execution_count": 1,
      "outputs": [
        {
          "output_type": "stream",
          "name": "stdout",
          "text": [
            "Looking in indexes: https://pypi.org/simple, https://us-python.pkg.dev/colab-wheels/public/simple/\n",
            "Collecting gazpacho\n",
            "  Downloading gazpacho-1.1.tar.gz (7.9 kB)\n",
            "  Installing build dependencies ... \u001b[?25l\u001b[?25hdone\n",
            "  Getting requirements to build wheel ... \u001b[?25l\u001b[?25hdone\n",
            "    Preparing wheel metadata ... \u001b[?25l\u001b[?25hdone\n",
            "Building wheels for collected packages: gazpacho\n",
            "  Building wheel for gazpacho (PEP 517) ... \u001b[?25l\u001b[?25hdone\n",
            "  Created wheel for gazpacho: filename=gazpacho-1.1-py3-none-any.whl size=7482 sha256=feebfe0f3db2838f32a9059c7aff20e1505074809004e72d365f4d81972bd35c\n",
            "  Stored in directory: /root/.cache/pip/wheels/db/6b/a2/486f272d5e523b56bd19817c14ef35ec1850644dea78f9dd76\n",
            "Successfully built gazpacho\n",
            "Installing collected packages: gazpacho\n",
            "Successfully installed gazpacho-1.1\n"
          ]
        }
      ]
    },
    {
      "cell_type": "code",
      "source": [
        "from gazpacho import Soup\n",
        "from requests import get"
      ],
      "metadata": {
        "id": "KSfZ8_vK91dq"
      },
      "execution_count": 2,
      "outputs": []
    },
    {
      "cell_type": "markdown",
      "source": [
        "## **1. WINE**"
      ],
      "metadata": {
        "id": "iMXB4PlaYb2u"
      }
    },
    {
      "cell_type": "code",
      "source": [
        "# define a url\n",
        "url = \"https://thewinelist.shop/10-wine\""
      ],
      "metadata": {
        "id": "wwCc39H37xGL"
      },
      "execution_count": 3,
      "outputs": []
    },
    {
      "cell_type": "code",
      "source": [
        "resp = get(url)\n",
        "resp.status_code"
      ],
      "metadata": {
        "colab": {
          "base_uri": "https://localhost:8080/"
        },
        "id": "Kxb76Klo-p35",
        "outputId": "d241e63d-f8c4-4f57-ad63-7c7efbc6f365"
      },
      "execution_count": 7,
      "outputs": [
        {
          "output_type": "execute_result",
          "data": {
            "text/plain": [
              "200"
            ]
          },
          "metadata": {},
          "execution_count": 7
        }
      ]
    },
    {
      "cell_type": "code",
      "source": [
        "wine = Soup(resp.text)"
      ],
      "metadata": {
        "id": "6qnwtZj1-Iw4"
      },
      "execution_count": 8,
      "outputs": []
    },
    {
      "cell_type": "code",
      "source": [
        "wine.find(\"h3\")"
      ],
      "metadata": {
        "colab": {
          "base_uri": "https://localhost:8080/"
        },
        "id": "W48qma2y-IzW",
        "outputId": "598563c9-4371-4310-e6d0-a49be13004c5"
      },
      "execution_count": 9,
      "outputs": [
        {
          "output_type": "execute_result",
          "data": {
            "text/plain": [
              "[<h3 class=\"h3 product-title\">\n",
              "   <a href=\"https://thewinelist.shop/bundles/760837-santa-carolina-couple-pack.html\">Santa Carolina Couple Pack</a>\n",
              " </h3>, <h3 class=\"h3 product-title\">\n",
              "   <a href=\"https://thewinelist.shop/wine-sparkling/33-santa-carolina-brut-chardonnay-nv.html\">Santa Carolina Brut Chardonnay N.V.</a>\n",
              " </h3>, <h3 class=\"h3 product-title\">\n",
              "   <a href=\"https://thewinelist.shop/wine-white/26-santa-carolina-premio-sauvignon-blanc-2014.html\">Santa Carolina Premio Sauvignon Blanc 2014</a>\n",
              " </h3>, <h3 class=\"h3 product-title\">\n",
              "   <a href=\"https://thewinelist.shop/wine/761242-chateau-haut-brion-1er-grand-cru-classe-2013.html\">Chateau HAUT BRION 1er Grand Cru Classe 2013</a>\n",
              " </h3>, <h3 class=\"h3 product-title\">\n",
              "   <a href=\"https://thewinelist.shop/rose/264-hunter-s-wine-marlborough-pinot-noire-rose-2017.html\">Hunter's Pinot Noir Rose 2017</a>\n",
              " </h3>, <h3 class=\"h3 product-title\">\n",
              "   <a href=\"https://thewinelist.shop/sweet-wines/172-brown-brothers-moscato-2017.html\">Brown Brothers Moscato</a>\n",
              " </h3>, <h3 class=\"h3 product-title\">\n",
              "   <a href=\"https://thewinelist.shop/wine-sparkling/88-blue-nun-blue-nun-sparkling-nv.html\">Blue Nun Blue Nun Sparkling Wine N.V.</a>\n",
              " </h3>, <h3 class=\"h3 product-title\">\n",
              "   <a href=\"https://thewinelist.shop/wine-white/28-santa-carolina-sauvignon-blanc-semillon-vistana-2017.html\">Santa Carolina SAUVIGNON BLANC SEMILLON &quot;Vistana&quot; 2017</a>\n",
              " </h3>, <h3 class=\"h3 product-title\">\n",
              "   <a href=\"https://thewinelist.shop/wine-red/24-mascota-vineyards-big-bat-cabernet-sauvignon-2015.html\">Mascota Vineyards Big Bat Cabernet Sauvignon 2014</a>\n",
              " </h3>, <h3 class=\"h3 product-title\">\n",
              "   <a href=\"https://thewinelist.shop/sweet-wines/273-chateau-d-yquem-1er-grand-cru-classe-eceptionnel-2014.html\">Chateau d'Yquem 1er Grand Cru Classé Eceptionnel 2014 (375ml.)</a>\n",
              " </h3>, <h3 class=\"h3 product-title\">\n",
              "   <a href=\"https://thewinelist.shop/wine-sparkling/89-blue-nun-24k-gold-edition-24k-gold-edition-nv.html\">Blue Nun Blue Nun 24K Gold Edition N.V.</a>\n",
              " </h3>, <h3 class=\"h3 product-title\">\n",
              "   <a href=\"https://thewinelist.shop/wine-white/31-santa-carolina-cellar-selection-sauvignon-blanc-2017.html\">Santa Carolina Cellar Selection Sauvignon Blanc 2017</a>\n",
              " </h3>, <h3 class=\"h3 product-title\">\n",
              "   <a href=\"https://thewinelist.shop/rose/279-bodvar-house-of-rose-n-1-pearly-rose-cinsault-2016.html\">Bodvar Bodvár N° 1 Rosé , Lightly Sparkling Wine 2016</a>\n",
              " </h3>, <h3 class=\"h3 product-title\">\n",
              "   <a href=\"https://thewinelist.shop/sweet-wines/274-chateau-d-arche-2em-vin-soleil-d-arche-2012.html\">Chateau D'ARCHE 2em Vin SOLEIL D'ARCHE 2012</a>\n",
              " </h3>, <h3 class=\"h3 product-title\">\n",
              "   <a href=\"https://thewinelist.shop/wine-sparkling/164-gancia-prosecco-spumante-prosecco-spumante-doc-nv.html\">Gancia Prosecco Nv</a>\n",
              " </h3>, <h3 class=\"h3 product-title\">\n",
              "   <a href=\"https://thewinelist.shop/wine-white/32-santa-carolina-cellar-selection-chardonnay-2017.html\">Santa Carolina Cellar Selection Chardonnay 2017</a>\n",
              " </h3>, <h3 class=\"h3 product-title\">\n",
              "   <a href=\"https://thewinelist.shop/wine-red/27-santa-carolina-vistana-cabernet-sauvignon-merlot-2014.html\">Santa Carolina Vistana Cabernet Sauvignon Merlot 2014</a>\n",
              " </h3>, <h3 class=\"h3 product-title\">\n",
              "   <a href=\"https://thewinelist.shop/rose/280-bodvar-house-of-rose-bodvar-n-5-rose-grenache-cinsault-and-rolle-2017.html\">BODVÁR House of Rose BODVÁR N° 5 ROSÉ Grenache, Cinsault and Rolle 2017</a>\n",
              " </h3>, <h3 class=\"h3 product-title\">\n",
              "   <a href=\"https://thewinelist.shop/sweet-wines/275-chateau-doisy-vedrines-2em-grand-cru-classe-1993.html\">Chateau Doisy Vedrines 2em Grand Cru Classe 1993</a>\n",
              " </h3>, <h3 class=\"h3 product-title\">\n",
              "   <a href=\"https://thewinelist.shop/wine-sparkling/165-rivani-prosecco-spumante-prosecco-spumante-doc-nv.html\">Rivani Prosecco Spumante Extra Dry Nv</a>\n",
              " </h3>, <h3 class=\"h3 product-title\">\n",
              "   <a href=\"https://thewinelist.shop/wine-white/36-santa-carolina-estrellas-sauvignon-blanc-2016.html\">Santa Carolina Sauvignon Blanc &quot;Estrellas&quot; 2016</a>\n",
              " </h3>, <h3 class=\"h3 product-title\">\n",
              "   <a href=\"https://thewinelist.shop/rose/281-bodvar-house-of-rose-bodvar-n-7-rose-grenache-cinsault-and-syrah-2017.html\">BODVÁR House of Rose BODVÁR N° 7 ROSÉ Grenache, Cinsault and Syrah 2017</a>\n",
              " </h3>, <h3 class=\"h3 product-title\">\n",
              "   <a href=\"https://thewinelist.shop/sweet-wines/276-chateau-doisy-daene-2em-grand-cru-classe-1996.html\">Ch. Doisy Daene 2Em Grand Cru Classé 1996</a>\n",
              " </h3>, <h3 class=\"h3 product-title\">\n",
              "   <a href=\"https://thewinelist.shop/wine-sparkling/166-rivani-vino-spumante-dolce-moscato-nv.html\">Rivani Moscato Spumante Dolce Nv</a>\n",
              " </h3>]"
            ]
          },
          "metadata": {},
          "execution_count": 9
        }
      ]
    },
    {
      "cell_type": "code",
      "source": [
        "wine.find(\"h3\", {'class': 'h3 product-title'})"
      ],
      "metadata": {
        "colab": {
          "base_uri": "https://localhost:8080/"
        },
        "id": "ZVVcZDk--I1s",
        "outputId": "e895e516-3652-46c3-bd8a-35d4cbabb1a4"
      },
      "execution_count": 10,
      "outputs": [
        {
          "output_type": "execute_result",
          "data": {
            "text/plain": [
              "[<h3 class=\"h3 product-title\">\n",
              "   <a href=\"https://thewinelist.shop/bundles/760837-santa-carolina-couple-pack.html\">Santa Carolina Couple Pack</a>\n",
              " </h3>, <h3 class=\"h3 product-title\">\n",
              "   <a href=\"https://thewinelist.shop/wine-sparkling/33-santa-carolina-brut-chardonnay-nv.html\">Santa Carolina Brut Chardonnay N.V.</a>\n",
              " </h3>, <h3 class=\"h3 product-title\">\n",
              "   <a href=\"https://thewinelist.shop/wine-white/26-santa-carolina-premio-sauvignon-blanc-2014.html\">Santa Carolina Premio Sauvignon Blanc 2014</a>\n",
              " </h3>, <h3 class=\"h3 product-title\">\n",
              "   <a href=\"https://thewinelist.shop/wine/761242-chateau-haut-brion-1er-grand-cru-classe-2013.html\">Chateau HAUT BRION 1er Grand Cru Classe 2013</a>\n",
              " </h3>, <h3 class=\"h3 product-title\">\n",
              "   <a href=\"https://thewinelist.shop/rose/264-hunter-s-wine-marlborough-pinot-noire-rose-2017.html\">Hunter's Pinot Noir Rose 2017</a>\n",
              " </h3>, <h3 class=\"h3 product-title\">\n",
              "   <a href=\"https://thewinelist.shop/sweet-wines/172-brown-brothers-moscato-2017.html\">Brown Brothers Moscato</a>\n",
              " </h3>, <h3 class=\"h3 product-title\">\n",
              "   <a href=\"https://thewinelist.shop/wine-sparkling/88-blue-nun-blue-nun-sparkling-nv.html\">Blue Nun Blue Nun Sparkling Wine N.V.</a>\n",
              " </h3>, <h3 class=\"h3 product-title\">\n",
              "   <a href=\"https://thewinelist.shop/wine-white/28-santa-carolina-sauvignon-blanc-semillon-vistana-2017.html\">Santa Carolina SAUVIGNON BLANC SEMILLON &quot;Vistana&quot; 2017</a>\n",
              " </h3>, <h3 class=\"h3 product-title\">\n",
              "   <a href=\"https://thewinelist.shop/wine-red/24-mascota-vineyards-big-bat-cabernet-sauvignon-2015.html\">Mascota Vineyards Big Bat Cabernet Sauvignon 2014</a>\n",
              " </h3>, <h3 class=\"h3 product-title\">\n",
              "   <a href=\"https://thewinelist.shop/sweet-wines/273-chateau-d-yquem-1er-grand-cru-classe-eceptionnel-2014.html\">Chateau d'Yquem 1er Grand Cru Classé Eceptionnel 2014 (375ml.)</a>\n",
              " </h3>, <h3 class=\"h3 product-title\">\n",
              "   <a href=\"https://thewinelist.shop/wine-sparkling/89-blue-nun-24k-gold-edition-24k-gold-edition-nv.html\">Blue Nun Blue Nun 24K Gold Edition N.V.</a>\n",
              " </h3>, <h3 class=\"h3 product-title\">\n",
              "   <a href=\"https://thewinelist.shop/wine-white/31-santa-carolina-cellar-selection-sauvignon-blanc-2017.html\">Santa Carolina Cellar Selection Sauvignon Blanc 2017</a>\n",
              " </h3>, <h3 class=\"h3 product-title\">\n",
              "   <a href=\"https://thewinelist.shop/rose/279-bodvar-house-of-rose-n-1-pearly-rose-cinsault-2016.html\">Bodvar Bodvár N° 1 Rosé , Lightly Sparkling Wine 2016</a>\n",
              " </h3>, <h3 class=\"h3 product-title\">\n",
              "   <a href=\"https://thewinelist.shop/sweet-wines/274-chateau-d-arche-2em-vin-soleil-d-arche-2012.html\">Chateau D'ARCHE 2em Vin SOLEIL D'ARCHE 2012</a>\n",
              " </h3>, <h3 class=\"h3 product-title\">\n",
              "   <a href=\"https://thewinelist.shop/wine-sparkling/164-gancia-prosecco-spumante-prosecco-spumante-doc-nv.html\">Gancia Prosecco Nv</a>\n",
              " </h3>, <h3 class=\"h3 product-title\">\n",
              "   <a href=\"https://thewinelist.shop/wine-white/32-santa-carolina-cellar-selection-chardonnay-2017.html\">Santa Carolina Cellar Selection Chardonnay 2017</a>\n",
              " </h3>, <h3 class=\"h3 product-title\">\n",
              "   <a href=\"https://thewinelist.shop/wine-red/27-santa-carolina-vistana-cabernet-sauvignon-merlot-2014.html\">Santa Carolina Vistana Cabernet Sauvignon Merlot 2014</a>\n",
              " </h3>, <h3 class=\"h3 product-title\">\n",
              "   <a href=\"https://thewinelist.shop/rose/280-bodvar-house-of-rose-bodvar-n-5-rose-grenache-cinsault-and-rolle-2017.html\">BODVÁR House of Rose BODVÁR N° 5 ROSÉ Grenache, Cinsault and Rolle 2017</a>\n",
              " </h3>, <h3 class=\"h3 product-title\">\n",
              "   <a href=\"https://thewinelist.shop/sweet-wines/275-chateau-doisy-vedrines-2em-grand-cru-classe-1993.html\">Chateau Doisy Vedrines 2em Grand Cru Classe 1993</a>\n",
              " </h3>, <h3 class=\"h3 product-title\">\n",
              "   <a href=\"https://thewinelist.shop/wine-sparkling/165-rivani-prosecco-spumante-prosecco-spumante-doc-nv.html\">Rivani Prosecco Spumante Extra Dry Nv</a>\n",
              " </h3>, <h3 class=\"h3 product-title\">\n",
              "   <a href=\"https://thewinelist.shop/wine-white/36-santa-carolina-estrellas-sauvignon-blanc-2016.html\">Santa Carolina Sauvignon Blanc &quot;Estrellas&quot; 2016</a>\n",
              " </h3>, <h3 class=\"h3 product-title\">\n",
              "   <a href=\"https://thewinelist.shop/rose/281-bodvar-house-of-rose-bodvar-n-7-rose-grenache-cinsault-and-syrah-2017.html\">BODVÁR House of Rose BODVÁR N° 7 ROSÉ Grenache, Cinsault and Syrah 2017</a>\n",
              " </h3>, <h3 class=\"h3 product-title\">\n",
              "   <a href=\"https://thewinelist.shop/sweet-wines/276-chateau-doisy-daene-2em-grand-cru-classe-1996.html\">Ch. Doisy Daene 2Em Grand Cru Classé 1996</a>\n",
              " </h3>, <h3 class=\"h3 product-title\">\n",
              "   <a href=\"https://thewinelist.shop/wine-sparkling/166-rivani-vino-spumante-dolce-moscato-nv.html\">Rivani Moscato Spumante Dolce Nv</a>\n",
              " </h3>]"
            ]
          },
          "metadata": {},
          "execution_count": 10
        }
      ]
    },
    {
      "cell_type": "markdown",
      "source": [
        "### **Title**"
      ],
      "metadata": {
        "id": "B-U1Tl2WYne8"
      }
    },
    {
      "cell_type": "code",
      "source": [
        "wine.find(\"h3\", {'class': 'h3 product-title'}, mode='first').strip()"
      ],
      "metadata": {
        "colab": {
          "base_uri": "https://localhost:8080/",
          "height": 35
        },
        "id": "74f-9Fle-I3x",
        "outputId": "83bf6ab4-fafc-442d-90b8-814fe42d5c24"
      },
      "execution_count": 12,
      "outputs": [
        {
          "output_type": "execute_result",
          "data": {
            "text/plain": [
              "'Santa Carolina Couple Pack'"
            ],
            "application/vnd.google.colaboratory.intrinsic+json": {
              "type": "string"
            }
          },
          "metadata": {},
          "execution_count": 12
        }
      ]
    },
    {
      "cell_type": "code",
      "source": [
        "titles = wine.find(\"h3\", {'class': 'h3 product-title'})\n",
        "\n",
        "clean_titles = [title.strip() for title in titles]\n",
        "\n",
        "print(clean_titles)"
      ],
      "metadata": {
        "colab": {
          "base_uri": "https://localhost:8080/"
        },
        "id": "l3IdGItR_m6k",
        "outputId": "9099e780-dcb6-49c1-ffca-8032ab853373"
      },
      "execution_count": 13,
      "outputs": [
        {
          "output_type": "stream",
          "name": "stdout",
          "text": [
            "['Santa Carolina Couple Pack', 'Santa Carolina Brut Chardonnay N.V.', 'Santa Carolina Premio Sauvignon Blanc 2014', 'Chateau HAUT BRION 1er Grand Cru Classe 2013', \"Hunter's Pinot Noir Rose 2017\", 'Brown Brothers Moscato', 'Blue Nun Blue Nun Sparkling Wine N.V.', 'Santa Carolina SAUVIGNON BLANC SEMILLON \"Vistana\" 2017', 'Mascota Vineyards Big Bat Cabernet Sauvignon 2014', \"Chateau d'Yquem 1er Grand Cru Classé Eceptionnel 2014 (375ml.)\", 'Blue Nun Blue Nun 24K Gold Edition N.V.', 'Santa Carolina Cellar Selection Sauvignon Blanc 2017', 'Bodvar Bodvár N° 1 Rosé , Lightly Sparkling Wine 2016', \"Chateau D'ARCHE 2em Vin SOLEIL D'ARCHE 2012\", 'Gancia Prosecco Nv', 'Santa Carolina Cellar Selection Chardonnay 2017', 'Santa Carolina Vistana Cabernet Sauvignon Merlot 2014', 'BODVÁR House of Rose BODVÁR N° 5 ROSÉ Grenache, Cinsault and Rolle 2017', 'Chateau Doisy Vedrines 2em Grand Cru Classe 1993', 'Rivani Prosecco Spumante Extra Dry Nv', 'Santa Carolina Sauvignon Blanc \"Estrellas\" 2016', 'BODVÁR House of Rose BODVÁR N° 7 ROSÉ Grenache, Cinsault and Syrah 2017', 'Ch. Doisy Daene 2Em Grand Cru Classé 1996', 'Rivani Moscato Spumante Dolce Nv']\n"
          ]
        }
      ]
    },
    {
      "cell_type": "markdown",
      "source": [
        "### **Price**"
      ],
      "metadata": {
        "id": "AWagsX_rYwxa"
      }
    },
    {
      "cell_type": "code",
      "source": [
        "wine.find(\"span\", {'class': 'product-price'},mode='first').strip()"
      ],
      "metadata": {
        "colab": {
          "base_uri": "https://localhost:8080/",
          "height": 35
        },
        "id": "KIWbE5Tx_z76",
        "outputId": "566714a3-c948-457c-da1a-8fefb311a9d4"
      },
      "execution_count": 14,
      "outputs": [
        {
          "output_type": "execute_result",
          "data": {
            "text/plain": [
              "'฿1,499.00'"
            ],
            "application/vnd.google.colaboratory.intrinsic+json": {
              "type": "string"
            }
          },
          "metadata": {},
          "execution_count": 14
        }
      ]
    },
    {
      "cell_type": "code",
      "source": [
        "prices = wine.find(\"span\", {'class': 'product-price'})\n",
        "prices = [price.strip() for price in prices]\n",
        "\n",
        "print(prices)"
      ],
      "metadata": {
        "colab": {
          "base_uri": "https://localhost:8080/"
        },
        "id": "eMb8gfWYAjsR",
        "outputId": "2ef9cf77-dfb3-43e4-fec7-aa8160758308"
      },
      "execution_count": 15,
      "outputs": [
        {
          "output_type": "stream",
          "name": "stdout",
          "text": [
            "['฿1,499.00', '฿790.00', '฿590.00', '฿39,000.00', '฿880.00', '฿740.00', '฿630.00', '฿590.00', '฿2,650.00', '฿24,610.00', '฿990.00', '฿535.00', '฿1,230.00', '฿3,200.00', '฿800.00', '฿535.00', '฿625.00', '฿1,810.00', '฿3,200.00', '฿825.00', '฿570.00', '฿1,595.00', '฿3,950.00', '฿660.00']\n"
          ]
        }
      ]
    },
    {
      "cell_type": "markdown",
      "source": [
        "### **Category**"
      ],
      "metadata": {
        "id": "Bo7YbYA1Y0Xt"
      }
    },
    {
      "cell_type": "code",
      "source": [
        "wine.find(\"div\", {'class': 'product-category-name text-muted'},mode='first').strip()"
      ],
      "metadata": {
        "colab": {
          "base_uri": "https://localhost:8080/",
          "height": 35
        },
        "id": "OcCUdY_coafG",
        "outputId": "744c6894-3451-46b4-b598-3cbc4d283052"
      },
      "execution_count": 16,
      "outputs": [
        {
          "output_type": "execute_result",
          "data": {
            "text/plain": [
              "'Bundles'"
            ],
            "application/vnd.google.colaboratory.intrinsic+json": {
              "type": "string"
            }
          },
          "metadata": {},
          "execution_count": 16
        }
      ]
    },
    {
      "cell_type": "code",
      "source": [
        "categories = wine.find(\"div\", {'class': 'product-category-name text-muted'})\n",
        "categories = [category.strip() for category in categories]\n",
        "\n",
        "print(categories)"
      ],
      "metadata": {
        "colab": {
          "base_uri": "https://localhost:8080/"
        },
        "id": "s7S6yXPmoavt",
        "outputId": "4942053f-de36-4efa-8df8-449fcebdb4d5"
      },
      "execution_count": 17,
      "outputs": [
        {
          "output_type": "stream",
          "name": "stdout",
          "text": [
            "['Bundles', 'Sparkling', 'White', 'Wine', 'Rose', 'Sweet Wines', 'Sparkling', 'White', 'Red', 'Sweet Wines', 'Sparkling', 'White', 'Rose', 'Sweet Wines', 'Sparkling', 'White', 'Red', 'Rose', 'Sweet Wines', 'Sparkling', 'White', 'Rose', 'Sweet Wines', 'Sparkling']\n"
          ]
        }
      ]
    },
    {
      "cell_type": "markdown",
      "source": [
        "### **DataFrame**"
      ],
      "metadata": {
        "id": "U1Fjo4tgY4Jp"
      }
    },
    {
      "cell_type": "code",
      "source": [
        "import pandas as pd\n",
        "wine_price = pd.DataFrame({\n",
        "    \"Title\": clean_titles,\n",
        "    \"Price\": prices,\n",
        "    \"Category\": categories\n",
        "})\n",
        "\n",
        "wine_price.head(10)"
      ],
      "metadata": {
        "colab": {
          "base_uri": "https://localhost:8080/",
          "height": 363
        },
        "id": "rpWzG0DJnfdk",
        "outputId": "a96b84df-e8cb-47ec-ce84-b0556f1a9d82"
      },
      "execution_count": 18,
      "outputs": [
        {
          "output_type": "execute_result",
          "data": {
            "text/plain": [
              "                                               Title       Price     Category\n",
              "0                         Santa Carolina Couple Pack   ฿1,499.00      Bundles\n",
              "1                Santa Carolina Brut Chardonnay N.V.     ฿790.00    Sparkling\n",
              "2         Santa Carolina Premio Sauvignon Blanc 2014     ฿590.00        White\n",
              "3       Chateau HAUT BRION 1er Grand Cru Classe 2013  ฿39,000.00         Wine\n",
              "4                      Hunter's Pinot Noir Rose 2017     ฿880.00         Rose\n",
              "5                             Brown Brothers Moscato     ฿740.00  Sweet Wines\n",
              "6              Blue Nun Blue Nun Sparkling Wine N.V.     ฿630.00    Sparkling\n",
              "7  Santa Carolina SAUVIGNON BLANC SEMILLON \"Vista...     ฿590.00        White\n",
              "8  Mascota Vineyards Big Bat Cabernet Sauvignon 2014   ฿2,650.00          Red\n",
              "9  Chateau d'Yquem 1er Grand Cru Classé Eceptionn...  ฿24,610.00  Sweet Wines"
            ],
            "text/html": [
              "\n",
              "  <div id=\"df-eebf0a27-4f6e-4559-a17d-d7d0f88ccc48\">\n",
              "    <div class=\"colab-df-container\">\n",
              "      <div>\n",
              "<style scoped>\n",
              "    .dataframe tbody tr th:only-of-type {\n",
              "        vertical-align: middle;\n",
              "    }\n",
              "\n",
              "    .dataframe tbody tr th {\n",
              "        vertical-align: top;\n",
              "    }\n",
              "\n",
              "    .dataframe thead th {\n",
              "        text-align: right;\n",
              "    }\n",
              "</style>\n",
              "<table border=\"1\" class=\"dataframe\">\n",
              "  <thead>\n",
              "    <tr style=\"text-align: right;\">\n",
              "      <th></th>\n",
              "      <th>Title</th>\n",
              "      <th>Price</th>\n",
              "      <th>Category</th>\n",
              "    </tr>\n",
              "  </thead>\n",
              "  <tbody>\n",
              "    <tr>\n",
              "      <th>0</th>\n",
              "      <td>Santa Carolina Couple Pack</td>\n",
              "      <td>฿1,499.00</td>\n",
              "      <td>Bundles</td>\n",
              "    </tr>\n",
              "    <tr>\n",
              "      <th>1</th>\n",
              "      <td>Santa Carolina Brut Chardonnay N.V.</td>\n",
              "      <td>฿790.00</td>\n",
              "      <td>Sparkling</td>\n",
              "    </tr>\n",
              "    <tr>\n",
              "      <th>2</th>\n",
              "      <td>Santa Carolina Premio Sauvignon Blanc 2014</td>\n",
              "      <td>฿590.00</td>\n",
              "      <td>White</td>\n",
              "    </tr>\n",
              "    <tr>\n",
              "      <th>3</th>\n",
              "      <td>Chateau HAUT BRION 1er Grand Cru Classe 2013</td>\n",
              "      <td>฿39,000.00</td>\n",
              "      <td>Wine</td>\n",
              "    </tr>\n",
              "    <tr>\n",
              "      <th>4</th>\n",
              "      <td>Hunter's Pinot Noir Rose 2017</td>\n",
              "      <td>฿880.00</td>\n",
              "      <td>Rose</td>\n",
              "    </tr>\n",
              "    <tr>\n",
              "      <th>5</th>\n",
              "      <td>Brown Brothers Moscato</td>\n",
              "      <td>฿740.00</td>\n",
              "      <td>Sweet Wines</td>\n",
              "    </tr>\n",
              "    <tr>\n",
              "      <th>6</th>\n",
              "      <td>Blue Nun Blue Nun Sparkling Wine N.V.</td>\n",
              "      <td>฿630.00</td>\n",
              "      <td>Sparkling</td>\n",
              "    </tr>\n",
              "    <tr>\n",
              "      <th>7</th>\n",
              "      <td>Santa Carolina SAUVIGNON BLANC SEMILLON \"Vista...</td>\n",
              "      <td>฿590.00</td>\n",
              "      <td>White</td>\n",
              "    </tr>\n",
              "    <tr>\n",
              "      <th>8</th>\n",
              "      <td>Mascota Vineyards Big Bat Cabernet Sauvignon 2014</td>\n",
              "      <td>฿2,650.00</td>\n",
              "      <td>Red</td>\n",
              "    </tr>\n",
              "    <tr>\n",
              "      <th>9</th>\n",
              "      <td>Chateau d'Yquem 1er Grand Cru Classé Eceptionn...</td>\n",
              "      <td>฿24,610.00</td>\n",
              "      <td>Sweet Wines</td>\n",
              "    </tr>\n",
              "  </tbody>\n",
              "</table>\n",
              "</div>\n",
              "      <button class=\"colab-df-convert\" onclick=\"convertToInteractive('df-eebf0a27-4f6e-4559-a17d-d7d0f88ccc48')\"\n",
              "              title=\"Convert this dataframe to an interactive table.\"\n",
              "              style=\"display:none;\">\n",
              "        \n",
              "  <svg xmlns=\"http://www.w3.org/2000/svg\" height=\"24px\"viewBox=\"0 0 24 24\"\n",
              "       width=\"24px\">\n",
              "    <path d=\"M0 0h24v24H0V0z\" fill=\"none\"/>\n",
              "    <path d=\"M18.56 5.44l.94 2.06.94-2.06 2.06-.94-2.06-.94-.94-2.06-.94 2.06-2.06.94zm-11 1L8.5 8.5l.94-2.06 2.06-.94-2.06-.94L8.5 2.5l-.94 2.06-2.06.94zm10 10l.94 2.06.94-2.06 2.06-.94-2.06-.94-.94-2.06-.94 2.06-2.06.94z\"/><path d=\"M17.41 7.96l-1.37-1.37c-.4-.4-.92-.59-1.43-.59-.52 0-1.04.2-1.43.59L10.3 9.45l-7.72 7.72c-.78.78-.78 2.05 0 2.83L4 21.41c.39.39.9.59 1.41.59.51 0 1.02-.2 1.41-.59l7.78-7.78 2.81-2.81c.8-.78.8-2.07 0-2.86zM5.41 20L4 18.59l7.72-7.72 1.47 1.35L5.41 20z\"/>\n",
              "  </svg>\n",
              "      </button>\n",
              "      \n",
              "  <style>\n",
              "    .colab-df-container {\n",
              "      display:flex;\n",
              "      flex-wrap:wrap;\n",
              "      gap: 12px;\n",
              "    }\n",
              "\n",
              "    .colab-df-convert {\n",
              "      background-color: #E8F0FE;\n",
              "      border: none;\n",
              "      border-radius: 50%;\n",
              "      cursor: pointer;\n",
              "      display: none;\n",
              "      fill: #1967D2;\n",
              "      height: 32px;\n",
              "      padding: 0 0 0 0;\n",
              "      width: 32px;\n",
              "    }\n",
              "\n",
              "    .colab-df-convert:hover {\n",
              "      background-color: #E2EBFA;\n",
              "      box-shadow: 0px 1px 2px rgba(60, 64, 67, 0.3), 0px 1px 3px 1px rgba(60, 64, 67, 0.15);\n",
              "      fill: #174EA6;\n",
              "    }\n",
              "\n",
              "    [theme=dark] .colab-df-convert {\n",
              "      background-color: #3B4455;\n",
              "      fill: #D2E3FC;\n",
              "    }\n",
              "\n",
              "    [theme=dark] .colab-df-convert:hover {\n",
              "      background-color: #434B5C;\n",
              "      box-shadow: 0px 1px 3px 1px rgba(0, 0, 0, 0.15);\n",
              "      filter: drop-shadow(0px 1px 2px rgba(0, 0, 0, 0.3));\n",
              "      fill: #FFFFFF;\n",
              "    }\n",
              "  </style>\n",
              "\n",
              "      <script>\n",
              "        const buttonEl =\n",
              "          document.querySelector('#df-eebf0a27-4f6e-4559-a17d-d7d0f88ccc48 button.colab-df-convert');\n",
              "        buttonEl.style.display =\n",
              "          google.colab.kernel.accessAllowed ? 'block' : 'none';\n",
              "\n",
              "        async function convertToInteractive(key) {\n",
              "          const element = document.querySelector('#df-eebf0a27-4f6e-4559-a17d-d7d0f88ccc48');\n",
              "          const dataTable =\n",
              "            await google.colab.kernel.invokeFunction('convertToInteractive',\n",
              "                                                     [key], {});\n",
              "          if (!dataTable) return;\n",
              "\n",
              "          const docLinkHtml = 'Like what you see? Visit the ' +\n",
              "            '<a target=\"_blank\" href=https://colab.research.google.com/notebooks/data_table.ipynb>data table notebook</a>'\n",
              "            + ' to learn more about interactive tables.';\n",
              "          element.innerHTML = '';\n",
              "          dataTable['output_type'] = 'display_data';\n",
              "          await google.colab.output.renderOutput(dataTable, element);\n",
              "          const docLink = document.createElement('div');\n",
              "          docLink.innerHTML = docLinkHtml;\n",
              "          element.appendChild(docLink);\n",
              "        }\n",
              "      </script>\n",
              "    </div>\n",
              "  </div>\n",
              "  "
            ]
          },
          "metadata": {},
          "execution_count": 18
        }
      ]
    }
  ]
}