{
 "cells":[
  {
   "cell_type":"markdown",
   "source":[
    "# IMDB"
   ],
   "attachments":{
    
   },
   "metadata":{
    "datalore":{
     "node_id":"IMDB",
     "type":"MD",
     "hide_input_from_viewers":false,
     "hide_output_from_viewers":false,
     "sheet_delimiter":true
    }
   }
  },
  {
   "cell_type":"markdown",
   "source":[
    "# **Mini Project 01 - IMDB web scaping**"
   ],
   "attachments":{
    
   },
   "metadata":{
    "datalore":{
     "node_id":"J8vEj5lrvIu7ySgejUqqxj",
     "type":"MD",
     "hide_input_from_viewers":false,
     "hide_output_from_viewers":false
    }
   }
  },
  {
   "cell_type":"code",
   "source":[
    "library(tidyverse)\n",
    "library(rvest) # scrape data from internet"
   ],
   "execution_count":21,
   "outputs":[
    
   ],
   "metadata":{
    "datalore":{
     "node_id":"bjihcPzjFZKOqNYYEV2mrl",
     "type":"CODE",
     "hide_input_from_viewers":false,
     "hide_output_from_viewers":false
    }
   }
  },
  {
   "cell_type":"code",
   "source":[
    "url <- \"https:\/\/www.imdb.com\/search\/title\/?groups=top_100&sort=user_rating%2Cdesc\""
   ],
   "execution_count":2,
   "outputs":[
    
   ],
   "metadata":{
    "datalore":{
     "node_id":"J0zWZXzGi2tpuzwcASiVVV",
     "type":"CODE",
     "hide_input_from_viewers":false,
     "hide_output_from_viewers":false
    }
   }
  },
  {
   "cell_type":"code",
   "source":[
    "print(url)"
   ],
   "execution_count":3,
   "outputs":[
    {
     "name":"stdout",
     "text":[
      "[1] \"https:\/\/www.imdb.com\/search\/title\/?groups=top_100&sort=user_rating%2Cdesc\"\n"
     ],
     "output_type":"stream"
    }
   ],
   "metadata":{
    "datalore":{
     "node_id":"vxYGKo5iRGPxD8vcmh5PjR",
     "type":"CODE",
     "hide_input_from_viewers":false,
     "hide_output_from_viewers":false
    }
   }
  },
  {
   "cell_type":"code",
   "source":[
    "imdb <- read_html(url)"
   ],
   "execution_count":4,
   "outputs":[
    
   ],
   "metadata":{
    "datalore":{
     "node_id":"BcScwNBYDnINP02rjOLU0G",
     "type":"CODE",
     "hide_input_from_viewers":false,
     "hide_output_from_viewers":false
    }
   }
  },
  {
   "cell_type":"code",
   "source":[
    "imdb"
   ],
   "execution_count":7,
   "outputs":[
    {
     "data":{
      "text\/plain":[
       "{html_document}\n",
       "<html xmlns:og=\"http:\/\/ogp.me\/ns#\" xmlns:fb=\"http:\/\/www.facebook.com\/2008\/fbml\">\n",
       "[1] <head>\\n<meta http-equiv=\"Content-Type\" content=\"text\/html; charset=UTF-8 ...\n",
       "[2] <body id=\"styleguide-v2\" class=\"fixed\">\\n            <img height=\"1\" widt ..."
      ]
     },
     "metadata":{
      
     },
     "output_type":"display_data"
    }
   ],
   "metadata":{
    "datalore":{
     "node_id":"HNTvtCUZBeop4DYRqFcbNm",
     "type":"CODE",
     "hide_input_from_viewers":false,
     "hide_output_from_viewers":false
    }
   }
  },
  {
   "cell_type":"code",
   "source":[
    "# movie title\n",
    "titles <- imdb %>%\n",
    "    html_nodes(\"h3.lister-item-header\") %>% # ถ้า node ไม่มี s จะวิ่งไปหาตัวเลขที่เจอ \/ nodes คือดึงทุก nodes\n",
    "    html_text2() # text2 - remove unnecessary sign"
   ],
   "execution_count":6,
   "outputs":[
    
   ],
   "metadata":{
    "datalore":{
     "node_id":"efiomCSzuQs28GLb1WTZA9",
     "type":"CODE",
     "hide_input_from_viewers":false,
     "hide_output_from_viewers":false
    }
   }
  },
  {
   "cell_type":"code",
   "source":[
    "titles[1:10]"
   ],
   "execution_count":7,
   "outputs":[
    {
     "data":{
      "text\/html":[
       "<style>\n",
       ".list-inline {list-style: none; margin:0; padding: 0}\n",
       ".list-inline>li {display: inline-block}\n",
       ".list-inline>li:not(:last-child)::after {content: \"\\00b7\"; padding: 0 .5ex}\n",
       "<\/style>\n",
       "<ol class=list-inline><li>'1. The Shawshank Redemption (1994)'<\/li><li>'2. The Godfather (1972)'<\/li><li>'3. The Dark Knight (2008)'<\/li><li>'4. The Lord of the Rings: The Return of the King (2003)'<\/li><li>'5. Schindler\\'s List (1993)'<\/li><li>'6. The Godfather Part II (1974)'<\/li><li>'7. 12 Angry Men (1957)'<\/li><li>'8. Pulp Fiction (1994)'<\/li><li>'9. Inception (2010)'<\/li><li>'10. The Lord of the Rings: The Two Towers (2002)'<\/li><\/ol>\n"
      ]
     },
     "metadata":{
      
     },
     "output_type":"display_data"
    }
   ],
   "metadata":{
    "datalore":{
     "node_id":"sZSOTSXIAFWukV2DdRsvoC",
     "type":"CODE",
     "hide_input_from_viewers":false,
     "hide_output_from_viewers":false
    }
   }
  },
  {
   "cell_type":"code",
   "source":[
    "# rating\n",
    "ratings <- imdb %>%\n",
    "    html_nodes(\"div.ratings-imdb-rating\") %>%\n",
    "    html_text2() %>%\n",
    "    as.numeric()"
   ],
   "execution_count":8,
   "outputs":[
    
   ],
   "metadata":{
    "datalore":{
     "node_id":"5xANKuimwca1h07u6Jc4SM",
     "type":"CODE",
     "hide_input_from_viewers":false,
     "hide_output_from_viewers":false
    }
   }
  },
  {
   "cell_type":"code",
   "source":[
    "ratings[1:10]"
   ],
   "execution_count":9,
   "outputs":[
    {
     "data":{
      "text\/html":[
       "<style>\n",
       ".list-inline {list-style: none; margin:0; padding: 0}\n",
       ".list-inline>li {display: inline-block}\n",
       ".list-inline>li:not(:last-child)::after {content: \"\\00b7\"; padding: 0 .5ex}\n",
       "<\/style>\n",
       "<ol class=list-inline><li>9.3<\/li><li>9.2<\/li><li>9<\/li><li>9<\/li><li>9<\/li><li>9<\/li><li>9<\/li><li>8.9<\/li><li>8.8<\/li><li>8.8<\/li><\/ol>\n"
      ]
     },
     "metadata":{
      
     },
     "output_type":"display_data"
    }
   ],
   "metadata":{
    "datalore":{
     "node_id":"82525BUquBTj9sykBFyofc",
     "type":"CODE",
     "hide_input_from_viewers":false,
     "hide_output_from_viewers":false
    }
   }
  },
  {
   "cell_type":"code",
   "source":[
    "# number of votes\n",
    "num_votes <- imdb %>%\n",
    "     html_nodes(\"p.sort-num_votes-visible\") %>%\n",
    "     html_text2()"
   ],
   "execution_count":19,
   "outputs":[
    
   ],
   "metadata":{
    "datalore":{
     "node_id":"L2hED3xO8Wr1JMMwdJ5B9y",
     "type":"CODE",
     "hide_input_from_viewers":false,
     "hide_output_from_viewers":false
    }
   }
  },
  {
   "cell_type":"code",
   "source":[
    "# build a dataset\n",
    "df <- data.frame(\n",
    "    title = titles,\n",
    "    rating = ratings,\n",
    "    num_vote = num_votes\n",
    ")\n",
    "\n",
    "head(df)"
   ],
   "execution_count":20,
   "outputs":[
    {
     "data":{
      "text\/html":[
       "<table class=\"dataframe\">\n",
       "<caption>A data.frame: 6 × 3<\/caption>\n",
       "<thead>\n",
       "\t<tr><th><\/th><th scope=col>title<\/th><th scope=col>rating<\/th><th scope=col>num_vote<\/th><\/tr>\n",
       "\t<tr><th><\/th><th scope=col>&lt;chr&gt;<\/th><th scope=col>&lt;dbl&gt;<\/th><th scope=col>&lt;chr&gt;<\/th><\/tr>\n",
       "<\/thead>\n",
       "<tbody>\n",
       "\t<tr><th scope=row>1<\/th><td>1. The Shawshank Redemption (1994)                     <\/td><td>9.3<\/td><td>Votes: 2,657,748 | Gross: $28.34M | Top 250: #1 <\/td><\/tr>\n",
       "\t<tr><th scope=row>2<\/th><td>2. The Godfather (1972)                                <\/td><td>9.2<\/td><td>Votes: 1,841,999 | Gross: $134.97M | Top 250: #2<\/td><\/tr>\n",
       "\t<tr><th scope=row>3<\/th><td>3. The Dark Knight (2008)                              <\/td><td>9.0<\/td><td>Votes: 2,630,514 | Gross: $534.86M | Top 250: #3<\/td><\/tr>\n",
       "\t<tr><th scope=row>4<\/th><td>4. The Lord of the Rings: The Return of the King (2003)<\/td><td>9.0<\/td><td>Votes: 1,832,471 | Gross: $377.85M | Top 250: #7<\/td><\/tr>\n",
       "\t<tr><th scope=row>5<\/th><td>5. Schindler's List (1993)                             <\/td><td>9.0<\/td><td>Votes: 1,346,221 | Gross: $96.90M | Top 250: #6 <\/td><\/tr>\n",
       "\t<tr><th scope=row>6<\/th><td>6. The Godfather Part II (1974)                        <\/td><td>9.0<\/td><td>Votes: 1,261,978 | Gross: $57.30M | Top 250: #4 <\/td><\/tr>\n",
       "<\/tbody>\n",
       "<\/table>\n"
      ]
     },
     "metadata":{
      
     },
     "output_type":"display_data"
    }
   ],
   "metadata":{
    "datalore":{
     "node_id":"ClxMgZuDmsgrvDA6dPRrjA",
     "type":"CODE",
     "hide_input_from_viewers":false,
     "hide_output_from_viewers":false
    }
   }
  },
  {
   "cell_type":"markdown",
   "source":[
    "# SpecPhone"
   ],
   "attachments":{
    
   },
   "metadata":{
    "datalore":{
     "node_id":"SpecPhone",
     "type":"MD",
     "hide_input_from_viewers":false,
     "hide_output_from_viewers":false,
     "sheet_delimiter":true
    }
   }
  },
  {
   "cell_type":"markdown",
   "source":[
    "# **Mini Project 02 - Specphone Phone Database**"
   ],
   "attachments":{
    
   },
   "metadata":{
    "datalore":{
     "node_id":"TWiBJMzsy4iWB4wHCOrsvs",
     "type":"MD",
     "hide_input_from_viewers":false,
     "hide_output_from_viewers":false
    }
   }
  },
  {
   "cell_type":"code",
   "source":[
    "library(tidyverse)\n",
    "library(rvest) # scrape data from internet"
   ],
   "execution_count":1,
   "outputs":[
    {
     "name":"stderr",
     "text":[
      "Warning message in system(\"timedatectl\", intern = TRUE):\n",
      "“running command 'timedatectl' had status 1”\n",
      "Warning message:\n",
      "“Failed to locate timezone database”\n",
      "── \u001b[1mAttaching packages\u001b[22m ─────────────────────────────────────── tidyverse 1.3.1 ──\n",
      "\n",
      "\u001b[32m✔\u001b[39m \u001b[34mggplot2\u001b[39m 3.3.5     \u001b[32m✔\u001b[39m \u001b[34mpurrr  \u001b[39m 0.3.4\n",
      "\u001b[32m✔\u001b[39m \u001b[34mtibble \u001b[39m 3.1.5     \u001b[32m✔\u001b[39m \u001b[34mdplyr  \u001b[39m 1.0.7\n",
      "\u001b[32m✔\u001b[39m \u001b[34mtidyr  \u001b[39m 1.1.4     \u001b[32m✔\u001b[39m \u001b[34mstringr\u001b[39m 1.4.0\n",
      "\u001b[32m✔\u001b[39m \u001b[34mreadr  \u001b[39m 2.0.2     \u001b[32m✔\u001b[39m \u001b[34mforcats\u001b[39m 0.5.1\n",
      "\n",
      "── \u001b[1mConflicts\u001b[22m ────────────────────────────────────────── tidyverse_conflicts() ──\n",
      "\u001b[31m✖\u001b[39m \u001b[34mdplyr\u001b[39m::\u001b[32mfilter()\u001b[39m  masks \u001b[34mstats\u001b[39m::filter()\n",
      "\u001b[31m✖\u001b[39m \u001b[34mpurrr\u001b[39m::\u001b[32mflatten()\u001b[39m masks \u001b[34mjsonlite\u001b[39m::flatten()\n",
      "\u001b[31m✖\u001b[39m \u001b[34mdplyr\u001b[39m::\u001b[32mlag()\u001b[39m     masks \u001b[34mstats\u001b[39m::lag()\n",
      "\n",
      "\n",
      "Attaching package: ‘rvest’\n",
      "\n",
      "\n",
      "The following object is masked from ‘package:readr’:\n",
      "\n",
      "    guess_encoding\n",
      "\n",
      "\n"
     ],
     "output_type":"stream"
    }
   ],
   "metadata":{
    "datalore":{
     "node_id":"aUdNC9bUJOFB6nHGlohQ7R",
     "type":"CODE",
     "hide_input_from_viewers":false,
     "hide_output_from_viewers":false
    }
   }
  },
  {
   "cell_type":"code",
   "source":[
    "url <- read_html(\"https:\/\/specphone.com\/Samsung-Galaxy-A04.html\")"
   ],
   "execution_count":4,
   "outputs":[
    
   ],
   "metadata":{
    "datalore":{
     "node_id":"dp4byiLC6OIT7XBqOJWqnl",
     "type":"CODE",
     "hide_input_from_viewers":false,
     "hide_output_from_viewers":false
    }
   }
  },
  {
   "cell_type":"code",
   "source":[
    "att <- url %>%\n",
    "    html_nodes(\"div.topic\") %>%\n",
    "    html_text2()\n",
    "\n",
    "value <- url %>%\n",
    "    html_nodes(\"div.detail\") %>%\n",
    "    html_text2()"
   ],
   "execution_count":5,
   "outputs":[
    
   ],
   "metadata":{
    "datalore":{
     "node_id":"YZmOgcGP0WCjp3pbDL85yA",
     "type":"CODE",
     "hide_input_from_viewers":false,
     "hide_output_from_viewers":false
    }
   }
  },
  {
   "cell_type":"code",
   "source":[
    "data.frame(attributes = att, value = value)"
   ],
   "execution_count":6,
   "outputs":[
    {
     "data":{
      "text\/html":[
       "<table class=\"dataframe\">\n",
       "<caption>A data.frame: 31 × 2<\/caption>\n",
       "<thead>\n",
       "\t<tr><th scope=col>attributes<\/th><th scope=col>value<\/th><\/tr>\n",
       "\t<tr><th scope=col>&lt;chr&gt;<\/th><th scope=col>&lt;chr&gt;<\/th><\/tr>\n",
       "<\/thead>\n",
       "<tbody>\n",
       "\t<tr><td>วันเปิดตัว       <\/td><td>ตุลาคม 2565                                                  <\/td><\/tr>\n",
       "\t<tr><td>วันวางจำหน่าย   <\/td><td>ยังไม่วางจำหน่าย                                               <\/td><\/tr>\n",
       "\t<tr><td>ขนาด          <\/td><td>164.40 x 76.30 x 9.10 มม.                                   <\/td><\/tr>\n",
       "\t<tr><td>น้ำหนัก         <\/td><td>192 กรัม                                                     <\/td><\/tr>\n",
       "\t<tr><td>วัสดุ           <\/td><td>Glass front, plastic back, plastic frame                    <\/td><\/tr>\n",
       "\t<tr><td>SIM           <\/td><td>รองรับ 2 ซิมการ์ด (nano sim, nano sim)                         <\/td><\/tr>\n",
       "\t<tr><td>Technology    <\/td><td>HSPA 42.2\/5.76 Mbps, LTE-A                                  <\/td><\/tr>\n",
       "\t<tr><td>2G            <\/td><td>850\/900\/1800\/1900                                           <\/td><\/tr>\n",
       "\t<tr><td>3G            <\/td><td>850\/900\/1900\/2100                                           <\/td><\/tr>\n",
       "\t<tr><td>4G            <\/td><td>850\/900\/1900\/2100\/2600                                      <\/td><\/tr>\n",
       "\t<tr><td>5G            <\/td><td>-                                                           <\/td><\/tr>\n",
       "\t<tr><td>ความเร็ว       <\/td><td>HSPA 42.2\/5.76 Mbps, LTE-A                                  <\/td><\/tr>\n",
       "\t<tr><td>ประเภท        <\/td><td>PLS LCD                                                     <\/td><\/tr>\n",
       "\t<tr><td>ขนาดหน้าจอ     <\/td><td>6.50 นิ้ว                                                     <\/td><\/tr>\n",
       "\t<tr><td>ความละเอียด    <\/td><td>720 x 1600 pixels                                           <\/td><\/tr>\n",
       "\t<tr><td>ระบบปฏิบัติการ   <\/td><td>Android 12                                                  <\/td><\/tr>\n",
       "\t<tr><td>ชิปประมวลผล    <\/td><td>Spreadtrum Unisoc SC9863A 1.6 GHz                           <\/td><\/tr>\n",
       "\t<tr><td>ชิปกราฟิก       <\/td><td>PowerVR GE8322                                              <\/td><\/tr>\n",
       "\t<tr><td>หน่วยความจำ    <\/td><td>3 GB                                                        <\/td><\/tr>\n",
       "\t<tr><td>ความจุ         <\/td><td>32 GB                                                       <\/td><\/tr>\n",
       "\t<tr><td>Memory Card   <\/td><td>microSD (1)                                                 <\/td><\/tr>\n",
       "\t<tr><td>กล้องหลัก       <\/td><td>ตัวที่ 1: 50 MP, f\/1.8, (wide), AF\n",
       "ตัวที่ 2: 2 MP, f\/2.4, (depth)<\/td><\/tr>\n",
       "\t<tr><td>ความละเอียดวีดีโอ<\/td><td>1080p@30fps                                                 <\/td><\/tr>\n",
       "\t<tr><td>กล้องหน้า       <\/td><td>ตัวที่ 1: 5 MP, f\/2.2                                          <\/td><\/tr>\n",
       "\t<tr><td>Bluetooth     <\/td><td>5.0, A2DP, LE                                               <\/td><\/tr>\n",
       "\t<tr><td>Wi-Fi         <\/td><td>802.11 a\/b\/g\/n\/ac, dual-b                                   <\/td><\/tr>\n",
       "\t<tr><td>USB           <\/td><td>Type-C                                                      <\/td><\/tr>\n",
       "\t<tr><td>GPS           <\/td><td>GLONASS, GALILEO, BDS                                       <\/td><\/tr>\n",
       "\t<tr><td>NFC           <\/td><td>ไม่รองรับ                                                     <\/td><\/tr>\n",
       "\t<tr><td>ความจุ         <\/td><td>5,000 mAh                                                   <\/td><\/tr>\n",
       "\t<tr><td>ประเภท        <\/td><td>Non-removable Li-Po Batt                                    <\/td><\/tr>\n",
       "<\/tbody>\n",
       "<\/table>\n"
      ]
     },
     "metadata":{
      
     },
     "output_type":"display_data"
    }
   ],
   "metadata":{
    "datalore":{
     "node_id":"W3GKbQtw78R4GOpnE3kqV1",
     "type":"CODE",
     "hide_input_from_viewers":false,
     "hide_output_from_viewers":false
    }
   }
  },
  {
   "cell_type":"code",
   "source":[
    "# All Samsung Smartphones\n",
    "samsung_url <- read_html(\"https:\/\/specphone.com\/brand\/Samsung\")"
   ],
   "execution_count":7,
   "outputs":[
    
   ],
   "metadata":{
    "datalore":{
     "node_id":"mwSLUjKqPzLChW9qhqdegU",
     "type":"CODE",
     "hide_input_from_viewers":false,
     "hide_output_from_viewers":false
    }
   }
  },
  {
   "cell_type":"code",
   "source":[
    "# Links to all samsung smartphone \/ css selector attribute - หา a ที่อยู่ใน li\n",
    "links <- samsung_url %>%\n",
    "    html_nodes(\"li.mobile-brand-item a\") %>%\n",
    "    html_attr(\"href\")"
   ],
   "execution_count":8,
   "outputs":[
    
   ],
   "metadata":{
    "datalore":{
     "node_id":"40agRr3ElEQjPeKLMxbtiO",
     "type":"CODE",
     "hide_input_from_viewers":false,
     "hide_output_from_viewers":false
    }
   }
  },
  {
   "cell_type":"code",
   "source":[
    "links"
   ],
   "execution_count":9,
   "outputs":[
    {
     "data":{
      "text\/html":[
       "<style>\n",
       ".list-inline {list-style: none; margin:0; padding: 0}\n",
       ".list-inline>li {display: inline-block}\n",
       ".list-inline>li:not(:last-child)::after {content: \"\\00b7\"; padding: 0 .5ex}\n",
       "<\/style>\n",
       "<ol class=list-inline><li>'\/Samsung-Galaxy-M13.html'<\/li><li>'\/Samsung-Galaxy-A23.html'<\/li><li>'\/Samsung-Galaxy-A13.html'<\/li><li>'\/Samsung-Galaxy-M32-5G.html'<\/li><li>'\/Samsung-Galaxy-A12-Nacho.html'<\/li><li>'\/Samsung-Galaxy-Pocket-Neo.html'<\/li><li>'\/Samsung-Galaxy-Young.html'<\/li><li>'\/Samsung-Galaxy-J1-Mini.html'<\/li><li>'\/Samsung-Galaxy-A01-Core-1-16GB.html'<\/li><li>'\/Samsung-Galaxy-V-PLUS.html'<\/li><li>'\/Samsung-Galaxy-Young-2.html'<\/li><li>'\/Samsung-Galaxy-M02.html'<\/li><li>'\/Samsung-Galaxy-A11.html'<\/li><li>'\/Samsung-Galaxy-J2-Pro-2018.html'<\/li><li>'\/Samsung-Galaxy-A12-2021.html'<\/li><li>'\/Samsung-Galaxy-A21s-3-32GB.html'<\/li><li>'\/Samsung-Galaxy-J5.html'<\/li><li>'\/Samsung-Galaxy-J4.html'<\/li><li>'\/Samsung-Galaxy-Core-2-Duos.html'<\/li><li>'\/Samsung-Galaxy-Ace-Plus.html'<\/li><li>'\/Samsung-Galaxy-A20.html'<\/li><li>'\/Samsung-Galaxy-Chat.html'<\/li><li>'\/Samsung-Galaxy-Gio.html'<\/li><li>'\/Samsung-Galaxy-Tab-A7-Lite-LTE.html'<\/li><li>'\/Samsung-Galaxy-Tab-A-10.5WIFI.html'<\/li><li>'\/Samsung-Galaxy-Alpha.html'<\/li><li>'\/Samsung-Galaxy-S3-Slim.html'<\/li><li>'\/Samsung-Galaxy-S4-zoom.html'<\/li><li>'\/Samsung-Galaxy-Xcover-2.html'<\/li><li>'\/Samsung-Galaxy-Tab-8.9-3G-16GB.html'<\/li><li>'\/Samsung-Galaxy-Tab-A8-LTE-2021.html'<\/li><li>'\/Samsung-Galaxy-A8-2018.html'<\/li><li>'\/Samsung-Galaxy-Tab4-8.0-wifi.html'<\/li><li>'\/Samsung-Galaxy-M33-5G.html'<\/li><li>'\/Samsung-Galaxy-A50.html'<\/li><li>'\/Samsung-Galaxy-E7.html'<\/li><li>'\/Samsung-Galaxy-S6.html'<\/li><li>'\/Samsung-Galaxy-S20-FE.html'<\/li><li>'\/Samsung-Galaxy-Tab-S4-WIFI.html'<\/li><li>'\/Samsung-Galaxy-S7.html'<\/li><li>'\/Samsung-Galaxy-Note-5-Exynos.html'<\/li><li>'\/Samsung-Galaxy-TabPRO-12.2-LTE.html'<\/li><li>'\/Samsung-Galaxy-S4-Active.html'<\/li><li>'\/Samsung-Galaxy-Tab-Active-3.html'<\/li><li>'\/Samsung-Galaxy-Tab-S3-9.7.html'<\/li><li>'\/Samsung-Galaxy-S6-edge.html'<\/li><li>'\/Samsung-Galaxy-Note-4-Exynos.html'<\/li><li>'\/Samsung-Galaxy-Round.html'<\/li><li>'\/Samsung-Galaxy-Note-20-Ultra-5G.html'<\/li><li>'\/Samsung-ATIV-Q.html'<\/li><li>'\/Samsung-ATIV-Smart-PC-PRO.html'<\/li><li>'\/Samsung-Galaxy-S22-Ultra12-128GB.html'<\/li><li>'\/Samsung-Galaxy-Z-Flip-5G.html'<\/li><li>'\/Samsung-Galaxy-Z-Flip.html'<\/li><li>'\/Samsung-Galaxy-Tab-S8-Ultra-5G.html'<\/li><li>'\/Samsung-Galaxy-S21-Ultra-16-512GB.html'<\/li><li>'\/Samsung-Galaxy-S10-Plus-Ram-12GB.html'<\/li><li>'\/Samsung-Galaxy-Z-Fold-3.html'<\/li><li>'\/Samsung-Galaxy-Z-Fold4.html'<\/li><li>'\/Samsung-Galaxy-Z-Fold-2-5G.html'<\/li><\/ol>\n"
      ]
     },
     "metadata":{
      
     },
     "output_type":"display_data"
    }
   ],
   "metadata":{
    "datalore":{
     "node_id":"QfLLAJ6c90Gp2ghAMN5383",
     "type":"CODE",
     "hide_input_from_viewers":false,
     "hide_output_from_viewers":false
    }
   }
  },
  {
   "cell_type":"code",
   "source":[
    "full_links <- paste0(\"http:\/\/specphone.com\", links)"
   ],
   "execution_count":10,
   "outputs":[
    
   ],
   "metadata":{
    "datalore":{
     "node_id":"G9KpZrUucGCoYN4cvW6bVy",
     "type":"CODE",
     "hide_input_from_viewers":false,
     "hide_output_from_viewers":false
    }
   }
  },
  {
   "cell_type":"code",
   "source":[
    "full_links"
   ],
   "execution_count":11,
   "outputs":[
    {
     "data":{
      "text\/html":[
       "<style>\n",
       ".list-inline {list-style: none; margin:0; padding: 0}\n",
       ".list-inline>li {display: inline-block}\n",
       ".list-inline>li:not(:last-child)::after {content: \"\\00b7\"; padding: 0 .5ex}\n",
       "<\/style>\n",
       "<ol class=list-inline><li>'http:\/\/specphone.com\/Samsung-Galaxy-M13.html'<\/li><li>'http:\/\/specphone.com\/Samsung-Galaxy-A23.html'<\/li><li>'http:\/\/specphone.com\/Samsung-Galaxy-A13.html'<\/li><li>'http:\/\/specphone.com\/Samsung-Galaxy-M32-5G.html'<\/li><li>'http:\/\/specphone.com\/Samsung-Galaxy-A12-Nacho.html'<\/li><li>'http:\/\/specphone.com\/Samsung-Galaxy-Pocket-Neo.html'<\/li><li>'http:\/\/specphone.com\/Samsung-Galaxy-Young.html'<\/li><li>'http:\/\/specphone.com\/Samsung-Galaxy-J1-Mini.html'<\/li><li>'http:\/\/specphone.com\/Samsung-Galaxy-A01-Core-1-16GB.html'<\/li><li>'http:\/\/specphone.com\/Samsung-Galaxy-V-PLUS.html'<\/li><li>'http:\/\/specphone.com\/Samsung-Galaxy-Young-2.html'<\/li><li>'http:\/\/specphone.com\/Samsung-Galaxy-M02.html'<\/li><li>'http:\/\/specphone.com\/Samsung-Galaxy-A11.html'<\/li><li>'http:\/\/specphone.com\/Samsung-Galaxy-J2-Pro-2018.html'<\/li><li>'http:\/\/specphone.com\/Samsung-Galaxy-A12-2021.html'<\/li><li>'http:\/\/specphone.com\/Samsung-Galaxy-A21s-3-32GB.html'<\/li><li>'http:\/\/specphone.com\/Samsung-Galaxy-J5.html'<\/li><li>'http:\/\/specphone.com\/Samsung-Galaxy-J4.html'<\/li><li>'http:\/\/specphone.com\/Samsung-Galaxy-Core-2-Duos.html'<\/li><li>'http:\/\/specphone.com\/Samsung-Galaxy-Ace-Plus.html'<\/li><li>'http:\/\/specphone.com\/Samsung-Galaxy-A20.html'<\/li><li>'http:\/\/specphone.com\/Samsung-Galaxy-Chat.html'<\/li><li>'http:\/\/specphone.com\/Samsung-Galaxy-Gio.html'<\/li><li>'http:\/\/specphone.com\/Samsung-Galaxy-Tab-A7-Lite-LTE.html'<\/li><li>'http:\/\/specphone.com\/Samsung-Galaxy-Tab-A-10.5WIFI.html'<\/li><li>'http:\/\/specphone.com\/Samsung-Galaxy-Alpha.html'<\/li><li>'http:\/\/specphone.com\/Samsung-Galaxy-S3-Slim.html'<\/li><li>'http:\/\/specphone.com\/Samsung-Galaxy-S4-zoom.html'<\/li><li>'http:\/\/specphone.com\/Samsung-Galaxy-Xcover-2.html'<\/li><li>'http:\/\/specphone.com\/Samsung-Galaxy-Tab-8.9-3G-16GB.html'<\/li><li>'http:\/\/specphone.com\/Samsung-Galaxy-Tab-A8-LTE-2021.html'<\/li><li>'http:\/\/specphone.com\/Samsung-Galaxy-A8-2018.html'<\/li><li>'http:\/\/specphone.com\/Samsung-Galaxy-Tab4-8.0-wifi.html'<\/li><li>'http:\/\/specphone.com\/Samsung-Galaxy-M33-5G.html'<\/li><li>'http:\/\/specphone.com\/Samsung-Galaxy-A50.html'<\/li><li>'http:\/\/specphone.com\/Samsung-Galaxy-E7.html'<\/li><li>'http:\/\/specphone.com\/Samsung-Galaxy-S6.html'<\/li><li>'http:\/\/specphone.com\/Samsung-Galaxy-S20-FE.html'<\/li><li>'http:\/\/specphone.com\/Samsung-Galaxy-Tab-S4-WIFI.html'<\/li><li>'http:\/\/specphone.com\/Samsung-Galaxy-S7.html'<\/li><li>'http:\/\/specphone.com\/Samsung-Galaxy-Note-5-Exynos.html'<\/li><li>'http:\/\/specphone.com\/Samsung-Galaxy-TabPRO-12.2-LTE.html'<\/li><li>'http:\/\/specphone.com\/Samsung-Galaxy-S4-Active.html'<\/li><li>'http:\/\/specphone.com\/Samsung-Galaxy-Tab-Active-3.html'<\/li><li>'http:\/\/specphone.com\/Samsung-Galaxy-Tab-S3-9.7.html'<\/li><li>'http:\/\/specphone.com\/Samsung-Galaxy-S6-edge.html'<\/li><li>'http:\/\/specphone.com\/Samsung-Galaxy-Note-4-Exynos.html'<\/li><li>'http:\/\/specphone.com\/Samsung-Galaxy-Round.html'<\/li><li>'http:\/\/specphone.com\/Samsung-Galaxy-Note-20-Ultra-5G.html'<\/li><li>'http:\/\/specphone.com\/Samsung-ATIV-Q.html'<\/li><li>'http:\/\/specphone.com\/Samsung-ATIV-Smart-PC-PRO.html'<\/li><li>'http:\/\/specphone.com\/Samsung-Galaxy-S22-Ultra12-128GB.html'<\/li><li>'http:\/\/specphone.com\/Samsung-Galaxy-Z-Flip-5G.html'<\/li><li>'http:\/\/specphone.com\/Samsung-Galaxy-Z-Flip.html'<\/li><li>'http:\/\/specphone.com\/Samsung-Galaxy-Tab-S8-Ultra-5G.html'<\/li><li>'http:\/\/specphone.com\/Samsung-Galaxy-S21-Ultra-16-512GB.html'<\/li><li>'http:\/\/specphone.com\/Samsung-Galaxy-S10-Plus-Ram-12GB.html'<\/li><li>'http:\/\/specphone.com\/Samsung-Galaxy-Z-Fold-3.html'<\/li><li>'http:\/\/specphone.com\/Samsung-Galaxy-Z-Fold4.html'<\/li><li>'http:\/\/specphone.com\/Samsung-Galaxy-Z-Fold-2-5G.html'<\/li><\/ol>\n"
      ]
     },
     "metadata":{
      
     },
     "output_type":"display_data"
    }
   ],
   "metadata":{
    "datalore":{
     "node_id":"XBNcQKTWnnl3Vs9xjU3Ljx",
     "type":"CODE",
     "hide_input_from_viewers":false,
     "hide_output_from_viewers":false
    }
   }
  },
  {
   "cell_type":"code",
   "source":[
    "result <- data.frame()\n",
    "\n",
    "for (link in full_links[1:5]) {\n",
    "    ss_topic <- link %>%\n",
    "        read_html() %>%\n",
    "        html_nodes(\"div.topic\") %>%\n",
    "        html_text2()\n",
    "\n",
    "    ss_detail <- link %>%\n",
    "        read_html() %>%\n",
    "        html_nodes(\"div.detail\") %>%\n",
    "        html_text2()\n",
    "\n",
    "    tmp <- data.frame(attribute = ss_topic,\n",
    "                      value = ss_detail)\n",
    "\n",
    "    result <- bind_rows(result, tmp)\n",
    "    print(\"Progress ...\")\n",
    "}\n",
    "\n",
    "print(result)"
   ],
   "execution_count":15,
   "outputs":[
    {
     "name":"stdout",
     "text":[
      "[1] \"Progress ...\"\n",
      "[1] \"Progress ...\"\n",
      "[1] \"Progress ...\"\n",
      "[1] \"Progress ...\"\n",
      "[1] \"Progress ...\"\n",
      "         attribute\n",
      "1          วันเปิดตัว\n",
      "2      วันวางจำหน่าย\n",
      "3             ขนาด\n",
      "4            น้ำหนัก\n",
      "5              วัสดุ\n",
      "6              SIM\n",
      "7       Technology\n",
      "8               2G\n",
      "9               3G\n",
      "10              4G\n",
      "11              5G\n",
      "12         ความเร็ว\n",
      "13          ประเภท\n",
      "14       ขนาดหน้าจอ\n",
      "15      ความละเอียด\n",
      "16     ระบบปฏิบัติการ\n",
      "17      ชิปประมวลผล\n",
      "18         ชิปกราฟิก\n",
      "19      หน่วยความจำ\n",
      "20           ความจุ\n",
      "21     Memory Card\n",
      "22         กล้องหลัก\n",
      "23  ความละเอียดวีดีโอ\n",
      "24         กล้องหน้า\n",
      "25       Bluetooth\n",
      "26           Wi-Fi\n",
      "27             USB\n",
      "28             GPS\n",
      "29             NFC\n",
      "30           ความจุ\n",
      "31          ประเภท\n",
      "32   Fast Charging\n",
      "33         วันเปิดตัว\n",
      "34     วันวางจำหน่าย\n",
      "35            ขนาด\n",
      "36           น้ำหนัก\n",
      "37             วัสดุ\n",
      "38             SIM\n",
      "39      Technology\n",
      "40              2G\n",
      "41              3G\n",
      "42              4G\n",
      "43              5G\n",
      "44         ความเร็ว\n",
      "45          ประเภท\n",
      "46       ขนาดหน้าจอ\n",
      "47      ความละเอียด\n",
      "48     ระบบปฏิบัติการ\n",
      "49      ชิปประมวลผล\n",
      "50         ชิปกราฟิก\n",
      "51      หน่วยความจำ\n",
      "52           ความจุ\n",
      "53     Memory Card\n",
      "54         กล้องหลัก\n",
      "55  ความละเอียดวีดีโอ\n",
      "56         กล้องหน้า\n",
      "57       Bluetooth\n",
      "58           Wi-Fi\n",
      "59             USB\n",
      "60             GPS\n",
      "61             NFC\n",
      "62           ความจุ\n",
      "63          ประเภท\n",
      "64   Fast Charging\n",
      "65         วันเปิดตัว\n",
      "66     วันวางจำหน่าย\n",
      "67            ขนาด\n",
      "68           น้ำหนัก\n",
      "69             วัสดุ\n",
      "70             SIM\n",
      "71      Technology\n",
      "72              2G\n",
      "73              3G\n",
      "74              4G\n",
      "75              5G\n",
      "76         ความเร็ว\n",
      "77          ประเภท\n",
      "78       ขนาดหน้าจอ\n",
      "79      ความละเอียด\n",
      "80     ระบบปฏิบัติการ\n",
      "81      ชิปประมวลผล\n",
      "82         ชิปกราฟิก\n",
      "83      หน่วยความจำ\n",
      "84           ความจุ\n",
      "85     Memory Card\n",
      "86         กล้องหลัก\n",
      "87  ความละเอียดวีดีโอ\n",
      "88         กล้องหน้า\n",
      "89       Bluetooth\n",
      "90           Wi-Fi\n",
      "91             USB\n",
      "92             GPS\n",
      "93             NFC\n",
      "94           ความจุ\n",
      "95          ประเภท\n",
      "96   Fast Charging\n",
      "97         วันเปิดตัว\n",
      "98     วันวางจำหน่าย\n",
      "99            ขนาด\n",
      "100          น้ำหนัก\n",
      "101            วัสดุ\n",
      "102            SIM\n",
      "103     Technology\n",
      "104             2G\n",
      "105             3G\n",
      "106             4G\n",
      "107             5G\n",
      "108        ความเร็ว\n",
      "109         ประเภท\n",
      "110      ขนาดหน้าจอ\n",
      "111     ความละเอียด\n",
      "112    ระบบปฏิบัติการ\n",
      "113     ชิปประมวลผล\n",
      "114        ชิปกราฟิก\n",
      "115     หน่วยความจำ\n",
      "116          ความจุ\n",
      "117    Memory Card\n",
      "118        กล้องหลัก\n",
      "119 ความละเอียดวีดีโอ\n",
      "120        กล้องหน้า\n",
      "121      Bluetooth\n",
      "122          Wi-Fi\n",
      "123            USB\n",
      "124            GPS\n",
      "125            NFC\n",
      "126          ความจุ\n",
      "127         ประเภท\n",
      "128  Fast Charging\n",
      "129        วันเปิดตัว\n",
      "130    วันวางจำหน่าย\n",
      "131           ขนาด\n",
      "132          น้ำหนัก\n",
      "133            วัสดุ\n",
      "134            SIM\n",
      "135     Technology\n",
      "136             2G\n",
      "137             3G\n",
      "138             4G\n",
      "139             5G\n",
      "140        ความเร็ว\n",
      "141         ประเภท\n",
      "142      ขนาดหน้าจอ\n",
      "143     ความละเอียด\n",
      "144    ระบบปฏิบัติการ\n",
      "145     ชิปประมวลผล\n",
      "146        ชิปกราฟิก\n",
      "147     หน่วยความจำ\n",
      "148          ความจุ\n",
      "149    Memory Card\n",
      "150        กล้องหลัก\n",
      "151 ความละเอียดวีดีโอ\n",
      "152        กล้องหน้า\n",
      "153      Bluetooth\n",
      "154          Wi-Fi\n",
      "155            USB\n",
      "156            GPS\n",
      "157            NFC\n",
      "158          ความจุ\n",
      "159         ประเภท\n",
      "160  Fast Charging\n",
      "                                                                                                                                   value\n",
      "1                                                                                                                            มิถุนายน 2565\n",
      "2                                                                                                                          ยังไม่วางจำหน่าย\n",
      "3                                                                                                              165.40 x 76.90 x 8.40 มม.\n",
      "4                                                                                                                                192 กรัม\n",
      "5                                                                                               Glass front, plastic back, plastic frame\n",
      "6                                                                                                    รองรับ 2 ซิมการ์ด (nano sim, nano sim)\n",
      "7                                                                                                             HSPA 42.2\/5.76 Mbps, LTE-A\n",
      "8                                                                                                                      850\/900\/1800\/1900\n",
      "9                                                                                                                      850\/900\/1900\/2100\n",
      "10                                                                                                                     850\/900\/1900\/2100\n",
      "11                                                                                                                                     -\n",
      "12                                                                                                            HSPA 42.2\/5.76 Mbps, LTE-A\n",
      "13                                                                                                                               PLS LCD\n",
      "14                                                                                                                               6.60 นิ้ว\n",
      "15                                                                                                                    1080 x 2408 pixels\n",
      "16                                                                                                                            Android 12\n",
      "17                                                                                                      Samsung Exynos 850 S5E3830 2 GHz\n",
      "18                                                                                                                          Mali-G52 MP1\n",
      "19                                                                                                                                  4 GB\n",
      "20                                                                                                                                 64 GB\n",
      "21                                                                                                                           microSD (1)\n",
      "22                                  ตัวที่ 1: 50 MP, f\/1.8, (wide), PDAF\\nตัวที่ 2: 5 MP, f\/2.2, 123˚ (ultrawide)\\nตัวที่ 3: 2 MP, f\/2.4, (depth)\n",
      "23                                                                                                                           1080p@30fps\n",
      "24                                                                                                            ตัวที่ 1: 8 MP, f\/2.2, (wide)\n",
      "25                                                                                                                         5.0, A2DP, LE\n",
      "26                                                                                                             802.11 a\/b\/g\/n\/ac, dual-b\n",
      "27                                                                                                                                Type-C\n",
      "28                                                                                                              A-GPS, GLONASS, GALILEO,\n",
      "29                                                                                                                                 รอบรับ\n",
      "30                                                                                                                             5,000 mAh\n",
      "31                                                                                                              Non-removable Li-Po Batt\n",
      "32                                                                                                                           รองรับ (15W)\n",
      "33                                                                                                                           มิถุนายน 2564\n",
      "34                                                                                                                         ยังไม่วางจำหน่าย\n",
      "35                                                                                                             164.50 x 76.90 x 8.40 มม.\n",
      "36                                                                                                                               195 กรัม\n",
      "37                                                                                              Glass front, plastic frame, plastic back\n",
      "38                                                                                                   รองรับ 2 ซิมการ์ด (nano sim, nano sim)\n",
      "39                                                                                                            HSPA 42.2\/5.76 Mbps, LTE-A\n",
      "40                                                                                                                     850\/900\/1800\/1900\n",
      "41                                                                                                                     850\/900\/1900\/2100\n",
      "42                                                                                                                850\/900\/1900\/2100\/2600\n",
      "43                                                                                                                                     -\n",
      "44                                                                                                            HSPA 42.2\/5.76 Mbps, LTE-A\n",
      "45                                                                                                                                   TFT\n",
      "46                                                                                                                               6.60 นิ้ว\n",
      "47                                                                                                                    1080 x 2408 pixels\n",
      "48                                                                                                                            Android 12\n",
      "49                                                                                             Qualcomm Snapdragon 680 4G SM6225 2.4 GHz\n",
      "50                                                                                                                            Adreno 610\n",
      "51                                                                                                                                  8 GB\n",
      "52                                                                                                                                128 GB\n",
      "53                                                                                                                           microSD (1)\n",
      "54     ตัวที่ 1: 50 MP, f\/1.8, (wide), PDAF\\nตัวที่ 2: 5 MP, f\/2.2, (ultrawide), 1\/5\\nตัวที่ 3: 2 MP, f\/2.4, (macro)\\nตัวที่ 4: 2 MP, f\/2.4, (depth)\n",
      "55                                                                                                                           1080p@30fps\n",
      "56                                                                                                            ตัวที่ 1: 8 MP, f\/2.2, (wide)\n",
      "57                                                                                                                                   5.0\n",
      "58                                                                                                                     802.11 a\/b\/g\/n\/ac\n",
      "59                                                                                                                                Type-C\n",
      "60                                                                                                              A-GPS, GLONASS, GALILEO,\n",
      "61                                                                                                                               ไม่รองรับ\n",
      "62                                                                                                                             5,000 mAh\n",
      "63                                                                                                              Non-removable Li-Po Batt\n",
      "64                                                                                                                           รองรับ (25W)\n",
      "65                                                                                                                           กันยายน 2564\n",
      "66                                                                                                                         ยังไม่วางจำหน่าย\n",
      "67                                                                                                             165.10 x 76.40 x 8.80 มม.\n",
      "68                                                                                                                               195 กรัม\n",
      "69                                                                            Glass front (Gorilla Glass 5), plastic frame, plastic back\n",
      "70                                                                                                   รองรับ 2 ซิมการ์ด (nano sim, nano sim)\n",
      "71                                                                                                            HSPA 42.2\/5.76 Mbps, LTE-A\n",
      "72                                                                                                                     850\/900\/1800\/1900\n",
      "73                                                                                                                     850\/900\/1900\/2100\n",
      "74                                                                                                                850\/900\/1900\/2100\/2600\n",
      "75                                                                                                                                     -\n",
      "76                                                                                                            HSPA 42.2\/5.76 Mbps, LTE-A\n",
      "77                                                                                                                                   TFT\n",
      "78                                                                                                                               6.60 นิ้ว\n",
      "79                                                                                                                    1080 x 2408 pixels\n",
      "80                                                                                                                            Android 12\n",
      "81                                                                                                      Samsung Exynos 850 S5E3830 2 GHz\n",
      "82                                                                                                                          Mali-G52 MP1\n",
      "83                                                                                                                                  4 GB\n",
      "84                                                                                                                                128 GB\n",
      "85                                                                                                                           microSD (1)\n",
      "86     ตัวที่ 1: 50 MP, f\/1.8, (wide), PDAF\\nตัวที่ 2: 5 MP, f\/2.2, (ultrawide), 1\/5\\nตัวที่ 3: 2 MP, f\/2.4, (macro)\\nตัวที่ 4: 2 MP, f\/2.4, (depth)\n",
      "87                                                                                                                           1080p@30fps\n",
      "88                                                                                                            ตัวที่ 1: 8 MP, f\/2.2, (wide)\n",
      "89                                                                                                                         5.0, A2DP, LE\n",
      "90                                                                                                             802.11 b\/g\/n, Wi-Fi Direc\n",
      "91                                                                                                                                Type-C\n",
      "92                                                                                                              A-GPS, GLONASS, GALILEO,\n",
      "93                                                                                                                               ไม่รองรับ\n",
      "94                                                                                                                             5,000 mAh\n",
      "95                                                                                                              Non-removable Li-Po Batt\n",
      "96                                                                                                                           รองรับ (25W)\n",
      "97                                                                                                                           สิงหาคม 2564\n",
      "98                                                                                                                         ยังไม่วางจำหน่าย\n",
      "99                                                                                                             164.20 x 76.60 x 9.00 มม.\n",
      "100                                                                                                                              205 กรัม\n",
      "101                                                                                             Glass front, plastic frame, plastic back\n",
      "102                                                                                                  รองรับ 2 ซิมการ์ด (nano sim, nano sim)\n",
      "103                                                                                                           HSPA 42.2\/5.76 Mbps, LTE-A\n",
      "104                                                                                                                    850\/900\/1800\/1900\n",
      "105                                                                                                                    850\/900\/1900\/2100\n",
      "106                                                                                                               850\/900\/1900\/2100\/2600\n",
      "107                                                                                                                  2100\/2600\/3500\/4700\n",
      "108                                                                                                           HSPA 42.2\/5.76 Mbps, LTE-A\n",
      "109                                                                                                                                  LCD\n",
      "110                                                                                                                              6.50 นิ้ว\n",
      "111                                                                                                                    720 x 1600 pixels\n",
      "112                                                                                                                           Android 11\n",
      "113                                                                                                  MediaTek Dimensity 720 MT6853 2 GHz\n",
      "114                                                                                                                         Mali-G57 MC3\n",
      "115                                                                                                                                 8 GB\n",
      "116                                                                                                                               128 GB\n",
      "117                                                                                                                          microSD (1)\n",
      "118                                 ตัวที่ 1: 48 MP, 26mm (wide)\\nตัวที่ 2: 8 MP, 123˚ (ultrawide)\\nตัวที่ 3: 5 MP, (macro)\\nตัวที่ 4: 2 MP, (depth)\n",
      "119                                                                                                                          1080p@30fps\n",
      "120                                                                                                                 ตัวที่ 1: 13 MP, (wide)\n",
      "121                                                                                                                        5.0, A2DP, LE\n",
      "122                                                                                                            802.11 a\/b\/g\/n\/ac, dual-b\n",
      "123                                                                                                                               Type-C\n",
      "124                                                                                                            with A-GPS, GLONASS, BDS,\n",
      "125                                                                                                                              ไม่รองรับ\n",
      "126                                                                                                                            5,000 mAh\n",
      "127                                                                                                             Non-removable Li-Po Batt\n",
      "128                                                                                                                          รองรับ (15W)\n",
      "129                                                                                                                          สิงหาคม 2564\n",
      "130                                                                                                                        ยังไม่วางจำหน่าย\n",
      "131                                                                                                            164.00 x 75.80 x 8.90 มม.\n",
      "132                                                                                                                              205 กรัม\n",
      "133                                                                                             Glass front, plastic back, plastic frame\n",
      "134                                                                                                  รองรับ 2 ซิมการ์ด (nano sim, nano sim)\n",
      "135                                                                                            HSPA 42.2\/5.76 Mbps, LTE Cat4 150\/50 Mbps\n",
      "136                                                                                                                    850\/900\/1800\/1900\n",
      "137                                                                                                                    850\/900\/1900\/2100\n",
      "138                                                                                                               850\/900\/1900\/2100\/2600\n",
      "139                                                                                                                                    -\n",
      "140                                                                                            HSPA 42.2\/5.76 Mbps, LTE Cat4 150\/50 Mbps\n",
      "141                                                                                                                              IPS LCD\n",
      "142                                                                                                                              6.50 นิ้ว\n",
      "143                                                                                                                    720 x 1600 pixels\n",
      "144                                                                                                                           Android 11\n",
      "145                                                                                                     Samsung Exynos 850 S5E3830 2 GHz\n",
      "146                                                                                                                         Mali-G52 MP1\n",
      "147                                                                                                                                 4 GB\n",
      "148                                                                                                                               128 GB\n",
      "149                                                                                                                              ไม่รองรับ\n",
      "150 ตัวที่ 1: 48 MP, f\/2.0, 26mm (wide), AF\\nตัวที่ 2: 5 MP, f\/2.2, 123˚ (ultrawide)\\nตัวที่ 3: 2 MP, f\/2.4, (macro)\\nตัวที่ 4: 2 MP, f\/2.4, (depth)\n",
      "151                                                                                                                          1080p@30fps\n",
      "152                                                                                                                   ตัวที่ 1: 8 MP, f\/2.2\n",
      "153                                                                                                                        5.0, A2DP, LE\n",
      "154                                                                                                            802.11 b\/g\/n, Wi-Fi Direc\n",
      "155                                                                                                                               Type-C\n",
      "156                                                                                                            with A-GPS, GLONASS, GALI\n",
      "157                                                                                                                              ไม่รองรับ\n",
      "158                                                                                                                            5,000 mAh\n",
      "159                                                                                                             Non-removable Li-Po Batt\n",
      "160                                                                                                                          รองรับ (15W)\n"
     ],
     "output_type":"stream"
    }
   ],
   "metadata":{
    "datalore":{
     "node_id":"I8iBpZFUrQszDDR28SgtxC",
     "type":"CODE",
     "hide_input_from_viewers":false,
     "hide_output_from_viewers":false
    }
   }
  },
  {
   "cell_type":"code",
   "source":[
    "print(head(result), 3)"
   ],
   "execution_count":16,
   "outputs":[
    {
     "name":"stdout",
     "text":[
      "    attribute                                    value\n",
      "1     วันเปิดตัว                              มิถุนายน 2565\n",
      "2 วันวางจำหน่าย                            ยังไม่วางจำหน่าย\n",
      "3        ขนาด                165.40 x 76.90 x 8.40 มม.\n",
      "4       น้ำหนัก                                  192 กรัม\n",
      "5         วัสดุ Glass front, plastic back, plastic frame\n",
      "6         SIM      รองรับ 2 ซิมการ์ด (nano sim, nano sim)\n"
     ],
     "output_type":"stream"
    }
   ],
   "metadata":{
    "datalore":{
     "node_id":"qT6WFG80Lfo8sMGNBw3tvb",
     "type":"CODE",
     "hide_input_from_viewers":false,
     "hide_output_from_viewers":false
    }
   }
  },
  {
   "cell_type":"code",
   "source":[
    "# write csv\n",
    "write_csv(result, \"result_ss_phone.csv\")"
   ],
   "execution_count":13,
   "outputs":[
    
   ],
   "metadata":{
    "datalore":{
     "node_id":"yCvYGxEoaJrL8cGvy8qOpT",
     "type":"CODE",
     "hide_input_from_viewers":false,
     "hide_output_from_viewers":false
    }
   }
  }
 ],
 "metadata":{
  "kernelspec":{
   "display_name":"R",
   "language":"r",
   "name":"ir"
  },
  "datalore":{
   "version":1,
   "computation_mode":"JUPYTER",
   "package_manager":"conda",
   "base_environment":"minimal",
   "packages":[
    
   ]
  }
 },
 "nbformat":4,
 "nbformat_minor":4
}