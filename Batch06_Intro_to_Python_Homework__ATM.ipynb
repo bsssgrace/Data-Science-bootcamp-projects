{
  "nbformat": 4,
  "nbformat_minor": 0,
  "metadata": {
    "colab": {
      "provenance": [],
      "authorship_tag": "ABX9TyOoaWm8OkdE3oETgO9Wevsc",
      "include_colab_link": true
    },
    "kernelspec": {
      "name": "python3",
      "display_name": "Python 3"
    },
    "language_info": {
      "name": "python"
    }
  },
  "cells": [
    {
      "cell_type": "markdown",
      "metadata": {
        "id": "view-in-github",
        "colab_type": "text"
      },
      "source": [
        "<a href=\"https://colab.research.google.com/github/bsssgrace/Data-Science-bootcamp-projects/blob/main/Batch06_Intro_to_Python_Homework__ATM.ipynb\" target=\"_parent\"><img src=\"https://colab.research.google.com/assets/colab-badge.svg\" alt=\"Open In Colab\"/></a>"
      ]
    },
    {
      "cell_type": "markdown",
      "source": [
        "ATM \n",
        "(OOP)"
      ],
      "metadata": {
        "id": "2QS7hVQKX7hc"
      }
    },
    {
      "cell_type": "markdown",
      "source": [
        "Methods"
      ],
      "metadata": {
        "id": "TNjyPjut-vS-"
      }
    },
    {
      "cell_type": "code",
      "source": [
        "class ATM:\n",
        "    def __init__(self, name, password, balance):\n",
        "        self.name = name\n",
        "        self.password = password\n",
        "        self.balance = balance \n",
        "\n",
        "    def check_balance(self):\n",
        "        message = f\"Your account balance is {self.balance}. Thank you for using 'XOXO ATM'. Good bye!\"\n",
        "        print(message)\n",
        "    \n",
        "    def deposit(self, money):\n",
        "        self.balance += money \n",
        "        print(f\"New Balance: {self.balance}\")\n",
        "        print(\"Deposit successfully. Thank you for using 'XOXO ATM'. Good bye!\")\n",
        "\n",
        "    def withdraw(self, money):\n",
        "        self.balance -= money\n",
        "        print(f\"New Balance: {self.balance}\")\n",
        "        print(\"Withdraw successfully. Thank you for using 'XOXO ATM'. Good bye!\")\n",
        "\n",
        "    def change_name(self, new_acc_name):\n",
        "        self.name = new_acc_name \n",
        "        print(f\"Your account name has been successfully changed from {user_input_name} to {new_acc_name}.\\\n",
        "        \\nThank you for using 'XOXO ATM'. Good bye!\")\n",
        "\n",
        "    def change_password(self, new_password):\n",
        "        self.password = new_password\n",
        "        print(f\"Your password has been successfully changed from {user_input_password} to {change_pass}.\\\n",
        "        \\nThank you for using 'XOXO ATM'. Good bye!\")"
      ],
      "metadata": {
        "id": "qII-s0PbX9ZI"
      },
      "execution_count": null,
      "outputs": []
    },
    {
      "cell_type": "markdown",
      "source": [
        "User Interaction"
      ],
      "metadata": {
        "id": "1MOlCzp6-2P6"
      }
    },
    {
      "cell_type": "code",
      "source": [
        "# Data input by user\n",
        "print(\"Welcome to 'XOXO ATM'\")\n",
        "user_input_name = input(\"What's your name?\")\n",
        "user_input_password = input(\"What's your password?\")\n",
        "user_input_balance = float(input(\"What's your balance?\"))\n",
        "print()\n",
        "\n",
        "# User enter password\n",
        "print(\"Let's start!\")\n",
        "user_input_password_check = input(\"Please enter your password:\")\n",
        "\n",
        "xoxo = ATM(user_input_name,user_input_password,user_input_balance)\n",
        "\n",
        "print()\n",
        "if user_input_password_check != user_input_password:\n",
        "    print(\"You have entered an incorrect password. Please try again!\")\n",
        "else:\n",
        "    print(\"Option:\\\n",
        "            \\nCheck balance = 1\\\n",
        "            \\nDeposit = 2\\\n",
        "            \\nWithdraw = 3\\\n",
        "            \\nChange account name = 4\\\n",
        "            \\nChange password = 5\") \n",
        "    print()\n",
        "    user_input_options = int(input(\"Please select available options to proceed: \"))\n",
        "    if user_input_options == 1:\n",
        "        xoxo.check_balance()\n",
        "    if user_input_options == 2:\n",
        "        dep_amount = float(input(\"Deposit Amount: \"))\n",
        "        xoxo.deposit(dep_amount)\n",
        "    if user_input_options == 3:\n",
        "        withd_amount = float(input(\"Withdraw Amount: \"))\n",
        "        xoxo.withdraw(withd_amount)\n",
        "    if user_input_options == 4:\n",
        "        change_acc_name = input(\"New account name: \")\n",
        "        xoxo.change_name(change_acc_name)\n",
        "    if user_input_options == 5:\n",
        "        change_pass = input(\"New password: \")\n",
        "        xoxo.change_password(change_pass)\n",
        "    if user_input_options > 5:\n",
        "        print(\"Sorry, something went wrong. Please try again.\")\n",
        "    else:\n",
        "        pass"
      ],
      "metadata": {
        "colab": {
          "base_uri": "https://localhost:8080/"
        },
        "id": "WOdUw1YiYBUS",
        "outputId": "0bfd3a82-c658-492d-d6e6-62d63da5b285"
      },
      "execution_count": null,
      "outputs": [
        {
          "output_type": "stream",
          "name": "stdout",
          "text": [
            "Welcome to 'XOXO ATM'\n",
            "What's your name?Grace\n",
            "What's your password?123\n",
            "What's your balance?10\n",
            "\n",
            "Let's start!\n",
            "Please enter your password:1\n",
            "\n",
            "You have entered an incorrect password. Please try again!\n"
          ]
        }
      ]
    },
    {
      "cell_type": "code",
      "source": [],
      "metadata": {
        "id": "D2CO5Swp-wsn"
      },
      "execution_count": null,
      "outputs": []
    }
  ]
}