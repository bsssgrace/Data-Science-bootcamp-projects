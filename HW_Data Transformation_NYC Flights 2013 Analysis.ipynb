{
 "cells": [
  {
   "attachments": {},
   "cell_type": "markdown",
   "metadata": {
    "datalore": {
     "hide_input_from_viewers": false,
     "hide_output_from_viewers": false,
     "node_id": "EsenNGfXnvuRos1FgZHcZU",
     "report_properties": {
      "height": 5,
      "x": 0,
      "y": 0
     },
     "type": "MD"
    }
   },
   "source": [
    "# NYC Flights 2013 Analysis\n",
    "data description is via https://cran.r-project.org/web/packages/nycflights13/nycflights13.pdf."
   ]
  },
  {
   "cell_type": "code",
   "execution_count": null,
   "metadata": {
    "datalore": {
     "hide_input_from_viewers": true,
     "hide_output_from_viewers": true,
     "node_id": "NTHYTVGHtCgP9eV98X4qBL",
     "report_properties": {},
     "type": "CODE"
    },
    "vscode": {
     "languageId": "r"
    }
   },
   "outputs": [],
   "source": [
    "# shift + enter ==> RUN CODE\n",
    "# ctrl + M ==> convert code cell to markdown list"
   ]
  },
  {
   "cell_type": "code",
   "execution_count": null,
   "metadata": {
    "datalore": {
     "hide_input_from_viewers": false,
     "hide_output_from_viewers": false,
     "node_id": "oovADRB9LolPSlledGvGn4",
     "report_properties": {
      "height": 5,
      "x": 0,
      "y": 5
     },
     "type": "CODE"
    },
    "vscode": {
     "languageId": "r"
    }
   },
   "outputs": [],
   "source": [
    "library(tidyverse)\n",
    "library(glue)\n",
    "library(dplyr)"
   ]
  },
  {
   "cell_type": "code",
   "execution_count": null,
   "metadata": {
    "datalore": {
     "hide_input_from_viewers": false,
     "hide_output_from_viewers": false,
     "node_id": "k7xLlQrS94RnUGGXs5OPGm",
     "report_properties": {
      "height": 16,
      "x": 0,
      "y": 10
     },
     "type": "CODE"
    },
    "vscode": {
     "languageId": "r"
    }
   },
   "outputs": [
    {
     "name": "stderr",
     "output_type": "stream",
     "text": [
      "\u001b[1m\u001b[1mRows: \u001b[1m\u001b[22m\u001b[34m\u001b[34m336776\u001b[34m\u001b[39m \u001b[1m\u001b[1mColumns: \u001b[1m\u001b[22m\u001b[34m\u001b[34m19\u001b[34m\u001b[39m\n",
      "\n",
      "\u001b[36m──\u001b[39m \u001b[1m\u001b[1mColumn specification\u001b[1m\u001b[22m \u001b[36m────────────────────────────────────────────────────────\u001b[39m\n",
      "\u001b[1mDelimiter:\u001b[22m \",\"\n",
      "\u001b[31mchr\u001b[39m   (4): carrier, tailnum, origin, dest\n",
      "\u001b[32mdbl\u001b[39m  (14): year, month, day, dep_time, sched_dep_time, dep_delay, arr_time, ...\n",
      "\u001b[34mdttm\u001b[39m  (1): time_hour\n",
      "\n",
      "\n",
      "\u001b[36mℹ\u001b[39m Use \u001b[30m\u001b[47m\u001b[30m\u001b[47m`spec()`\u001b[47m\u001b[30m\u001b[49m\u001b[39m to retrieve the full column specification for this data.\n",
      "\u001b[36mℹ\u001b[39m Specify the column types or set \u001b[30m\u001b[47m\u001b[30m\u001b[47m`show_col_types = FALSE`\u001b[47m\u001b[30m\u001b[49m\u001b[39m to quiet this message.\n",
      "\n",
      "\u001b[1m\u001b[1mRows: \u001b[1m\u001b[22m\u001b[34m\u001b[34m16\u001b[34m\u001b[39m \u001b[1m\u001b[1mColumns: \u001b[1m\u001b[22m\u001b[34m\u001b[34m2\u001b[34m\u001b[39m\n",
      "\n",
      "\u001b[36m──\u001b[39m \u001b[1m\u001b[1mColumn specification\u001b[1m\u001b[22m \u001b[36m────────────────────────────────────────────────────────\u001b[39m\n",
      "\u001b[1mDelimiter:\u001b[22m \",\"\n",
      "\u001b[31mchr\u001b[39m (2): carrier, name\n",
      "\n",
      "\n",
      "\u001b[36mℹ\u001b[39m Use \u001b[30m\u001b[47m\u001b[30m\u001b[47m`spec()`\u001b[47m\u001b[30m\u001b[49m\u001b[39m to retrieve the full column specification for this data.\n",
      "\u001b[36mℹ\u001b[39m Specify the column types or set \u001b[30m\u001b[47m\u001b[30m\u001b[47m`show_col_types = FALSE`\u001b[47m\u001b[30m\u001b[49m\u001b[39m to quiet this message.\n",
      "\n",
      "\u001b[1m\u001b[1mRows: \u001b[1m\u001b[22m\u001b[34m\u001b[34m1458\u001b[34m\u001b[39m \u001b[1m\u001b[1mColumns: \u001b[1m\u001b[22m\u001b[34m\u001b[34m8\u001b[34m\u001b[39m\n",
      "\n",
      "\u001b[36m──\u001b[39m \u001b[1m\u001b[1mColumn specification\u001b[1m\u001b[22m \u001b[36m────────────────────────────────────────────────────────\u001b[39m\n",
      "\u001b[1mDelimiter:\u001b[22m \",\"\n",
      "\u001b[31mchr\u001b[39m (4): faa, name, dst, tzone\n",
      "\u001b[32mdbl\u001b[39m (4): lat, lon, alt, tz\n",
      "\n",
      "\n",
      "\u001b[36mℹ\u001b[39m Use \u001b[30m\u001b[47m\u001b[30m\u001b[47m`spec()`\u001b[47m\u001b[30m\u001b[49m\u001b[39m to retrieve the full column specification for this data.\n",
      "\u001b[36mℹ\u001b[39m Specify the column types or set \u001b[30m\u001b[47m\u001b[30m\u001b[47m`show_col_types = FALSE`\u001b[47m\u001b[30m\u001b[49m\u001b[39m to quiet this message.\n",
      "\n"
     ]
    }
   ],
   "source": [
    "flights <- read_csv(\"flights.csv\")\n",
    "airlines <- read_csv(\"airlines.csv\")\n",
    "airports <- read_csv(\"airports.csv\")"
   ]
  },
  {
   "cell_type": "code",
   "execution_count": null,
   "metadata": {
    "datalore": {
     "hide_input_from_viewers": false,
     "hide_output_from_viewers": false,
     "node_id": "HpvWtFf4iUdrG3wy01Qtc7",
     "report_properties": {
      "height": 15,
      "x": 0,
      "y": 26
     },
     "type": "CODE"
    },
    "vscode": {
     "languageId": "r"
    }
   },
   "outputs": [
    {
     "name": "stdout",
     "output_type": "stream",
     "text": [
      "Rows: 336,776\n",
      "Columns: 19\n",
      "$ year           \u001b[3m\u001b[90m<dbl>\u001b[39m\u001b[23m 2013, 2013, 2013, 2013, 2013, 2013, 2013, 2013, 2013, 2…\n",
      "$ month          \u001b[3m\u001b[90m<dbl>\u001b[39m\u001b[23m 1, 1, 1, 1, 1, 1, 1, 1, 1, 1, 1, 1, 1, 1, 1, 1, 1, 1, 1…\n",
      "$ day            \u001b[3m\u001b[90m<dbl>\u001b[39m\u001b[23m 1, 1, 1, 1, 1, 1, 1, 1, 1, 1, 1, 1, 1, 1, 1, 1, 1, 1, 1…\n",
      "$ dep_time       \u001b[3m\u001b[90m<dbl>\u001b[39m\u001b[23m 517, 533, 542, 544, 554, 554, 555, 557, 557, 558, 558, …\n",
      "$ sched_dep_time \u001b[3m\u001b[90m<dbl>\u001b[39m\u001b[23m 515, 529, 540, 545, 600, 558, 600, 600, 600, 600, 600, …\n",
      "$ dep_delay      \u001b[3m\u001b[90m<dbl>\u001b[39m\u001b[23m 2, 4, 2, -1, -6, -4, -5, -3, -3, -2, -2, -2, -2, -2, -1…\n",
      "$ arr_time       \u001b[3m\u001b[90m<dbl>\u001b[39m\u001b[23m 830, 850, 923, 1004, 812, 740, 913, 709, 838, 753, 849,…\n",
      "$ sched_arr_time \u001b[3m\u001b[90m<dbl>\u001b[39m\u001b[23m 819, 830, 850, 1022, 837, 728, 854, 723, 846, 745, 851,…\n",
      "$ arr_delay      \u001b[3m\u001b[90m<dbl>\u001b[39m\u001b[23m 11, 20, 33, -18, -25, 12, 19, -14, -8, 8, -2, -3, 7, -1…\n",
      "$ carrier        \u001b[3m\u001b[90m<chr>\u001b[39m\u001b[23m \"UA\", \"UA\", \"AA\", \"B6\", \"DL\", \"UA\", \"B6\", \"EV\", \"B6\", \"…\n",
      "$ flight         \u001b[3m\u001b[90m<dbl>\u001b[39m\u001b[23m 1545, 1714, 1141, 725, 461, 1696, 507, 5708, 79, 301, 4…\n",
      "$ tailnum        \u001b[3m\u001b[90m<chr>\u001b[39m\u001b[23m \"N14228\", \"N24211\", \"N619AA\", \"N804JB\", \"N668DN\", \"N394…\n",
      "$ origin         \u001b[3m\u001b[90m<chr>\u001b[39m\u001b[23m \"EWR\", \"LGA\", \"JFK\", \"JFK\", \"LGA\", \"EWR\", \"EWR\", \"LGA\",…\n",
      "$ dest           \u001b[3m\u001b[90m<chr>\u001b[39m\u001b[23m \"IAH\", \"IAH\", \"MIA\", \"BQN\", \"ATL\", \"ORD\", \"FLL\", \"IAD\",…\n",
      "$ air_time       \u001b[3m\u001b[90m<dbl>\u001b[39m\u001b[23m 227, 227, 160, 183, 116, 150, 158, 53, 140, 138, 149, 1…\n",
      "$ distance       \u001b[3m\u001b[90m<dbl>\u001b[39m\u001b[23m 1400, 1416, 1089, 1576, 762, 719, 1065, 229, 944, 733, …\n",
      "$ hour           \u001b[3m\u001b[90m<dbl>\u001b[39m\u001b[23m 5, 5, 5, 5, 6, 5, 6, 6, 6, 6, 6, 6, 6, 6, 6, 5, 6, 6, 6…\n",
      "$ minute         \u001b[3m\u001b[90m<dbl>\u001b[39m\u001b[23m 15, 29, 40, 45, 0, 58, 0, 0, 0, 0, 0, 0, 0, 0, 0, 59, 0…\n",
      "$ time_hour      \u001b[3m\u001b[90m<dttm>\u001b[39m\u001b[23m 2013-01-01 10:00:00, 2013-01-01 10:00:00, 2013-01-01 1…\n"
     ]
    }
   ],
   "source": [
    "glimpse(flights)"
   ]
  },
  {
   "cell_type": "code",
   "execution_count": null,
   "metadata": {
    "datalore": {
     "hide_input_from_viewers": false,
     "hide_output_from_viewers": false,
     "node_id": "vSXS1ckXVMW8LEIwJhCPmO",
     "report_properties": {
      "height": 8,
      "x": 0,
      "y": 41
     },
     "type": "CODE"
    },
    "vscode": {
     "languageId": "r"
    }
   },
   "outputs": [
    {
     "name": "stdout",
     "output_type": "stream",
     "text": [
      "Rows: 16\n",
      "Columns: 2\n",
      "$ carrier \u001b[3m\u001b[90m<chr>\u001b[39m\u001b[23m \"9E\", \"AA\", \"AS\", \"B6\", \"DL\", \"EV\", \"F9\", \"FL\", \"HA\", \"MQ\", \"O…\n",
      "$ name    \u001b[3m\u001b[90m<chr>\u001b[39m\u001b[23m \"Endeavor Air Inc.\", \"American Airlines Inc.\", \"Alaska Airline…\n"
     ]
    }
   ],
   "source": [
    "\n",
    "glimpse(airlines)"
   ]
  },
  {
   "cell_type": "code",
   "execution_count": null,
   "metadata": {
    "datalore": {
     "hide_input_from_viewers": false,
     "hide_output_from_viewers": false,
     "node_id": "HoAwDzGJjZbAoyv4HS30NW",
     "report_properties": {
      "height": 11,
      "x": 0,
      "y": 49
     },
     "type": "CODE"
    },
    "vscode": {
     "languageId": "r"
    }
   },
   "outputs": [
    {
     "name": "stdout",
     "output_type": "stream",
     "text": [
      "Rows: 1,458\n",
      "Columns: 8\n",
      "$ faa   \u001b[3m\u001b[90m<chr>\u001b[39m\u001b[23m \"04G\", \"06A\", \"06C\", \"06N\", \"09J\", \"0A9\", \"0G6\", \"0G7\", \"0P2\", \"…\n",
      "$ name  \u001b[3m\u001b[90m<chr>\u001b[39m\u001b[23m \"Lansdowne Airport\", \"Moton Field Municipal Airport\", \"Schaumbur…\n",
      "$ lat   \u001b[3m\u001b[90m<dbl>\u001b[39m\u001b[23m 41.13047, 32.46057, 41.98934, 41.43191, 31.07447, 36.37122, 41.4…\n",
      "$ lon   \u001b[3m\u001b[90m<dbl>\u001b[39m\u001b[23m -80.61958, -85.68003, -88.10124, -74.39156, -81.42778, -82.17342…\n",
      "$ alt   \u001b[3m\u001b[90m<dbl>\u001b[39m\u001b[23m 1044, 264, 801, 523, 11, 1593, 730, 492, 1000, 108, 409, 875, 10…\n",
      "$ tz    \u001b[3m\u001b[90m<dbl>\u001b[39m\u001b[23m -5, -6, -6, -5, -5, -5, -5, -5, -5, -8, -5, -6, -5, -5, -5, -5, …\n",
      "$ dst   \u001b[3m\u001b[90m<chr>\u001b[39m\u001b[23m \"A\", \"A\", \"A\", \"A\", \"A\", \"A\", \"A\", \"A\", \"U\", \"A\", \"A\", \"U\", \"A\",…\n",
      "$ tzone \u001b[3m\u001b[90m<chr>\u001b[39m\u001b[23m \"America/New_York\", \"America/Chicago\", \"America/Chicago\", \"Ameri…\n"
     ]
    }
   ],
   "source": [
    "\n",
    "glimpse(airports)"
   ]
  },
  {
   "attachments": {},
   "cell_type": "markdown",
   "metadata": {
    "datalore": {
     "hide_input_from_viewers": false,
     "hide_output_from_viewers": false,
     "node_id": "bka6ux1FkHKigBytkV070C",
     "report_properties": {
      "height": 5,
      "x": 0,
      "y": 60
     },
     "type": "MD"
    }
   },
   "source": [
    "# Q01: Which airline had the most flights on Christmas?\n",
    "Answer: JetBlue Airways"
   ]
  },
  {
   "cell_type": "code",
   "execution_count": null,
   "metadata": {
    "datalore": {
     "hide_input_from_viewers": false,
     "hide_output_from_viewers": false,
     "node_id": "H7nXQpnPIFhCVqkJgXQGlt",
     "report_properties": {
      "height": 11,
      "x": 0,
      "y": 65
     },
     "type": "CODE"
    },
    "vscode": {
     "languageId": "r"
    }
   },
   "outputs": [
    {
     "data": {
      "text/html": [
       "<table class=\"dataframe\">\n",
       "<caption>A tibble: 1 × 2</caption>\n",
       "<thead>\n",
       "\t<tr><th scope=col>carrier_name</th><th scope=col>n_flights</th></tr>\n",
       "\t<tr><th scope=col>&lt;chr&gt;</th><th scope=col>&lt;int&gt;</th></tr>\n",
       "</thead>\n",
       "<tbody>\n",
       "\t<tr><td>JetBlue Airways</td><td>159</td></tr>\n",
       "</tbody>\n",
       "</table>\n"
      ]
     },
     "metadata": {},
     "output_type": "display_data"
    }
   ],
   "source": [
    "flights %>%\n",
    "filter(month == 12, day == 25) %>% #filter specific date.\n",
    "count(carrier) %>% # count n_total of each airline.\n",
    "arrange(desc(n)) %>% # order desc to sort largest to smallest.\n",
    "left_join(airlines, \"carrier\") %>% # join airlines table to get a full name of each airline.\n",
    "select(carrier_name = name, n_flights = n) %>% \n",
    "head(1) # pull airline with the highest n_total."
   ]
  },
  {
   "attachments": {},
   "cell_type": "markdown",
   "metadata": {
    "datalore": {
     "hide_input_from_viewers": false,
     "hide_output_from_viewers": false,
     "node_id": "vJk3K3AwOno2fnRll4J99b",
     "report_properties": {
      "height": 6,
      "x": 0,
      "y": 76
     },
     "type": "MD"
    }
   },
   "source": [
    "# Q02: Where were the top 3 destinations in which JetBlue Airways arrived on Christmas? \n",
    "Answer: (1) Fort Lauderdale Hollywood Intl\n",
    "(2) Orlando Intl\n",
    "(3) Palm Beach Intl"
   ]
  },
  {
   "cell_type": "code",
   "execution_count": null,
   "metadata": {
    "datalore": {
     "hide_input_from_viewers": false,
     "hide_output_from_viewers": false,
     "node_id": "w5Q2dGGwtifQvmoHfdNYVd",
     "report_properties": {
      "height": 12,
      "x": 0,
      "y": 82
     },
     "type": "CODE"
    },
    "vscode": {
     "languageId": "r"
    }
   },
   "outputs": [
    {
     "data": {
      "text/html": [
       "<table class=\"dataframe\">\n",
       "<caption>A tibble: 3 × 2</caption>\n",
       "<thead>\n",
       "\t<tr><th scope=col>destination</th><th scope=col>n</th></tr>\n",
       "\t<tr><th scope=col>&lt;chr&gt;</th><th scope=col>&lt;int&gt;</th></tr>\n",
       "</thead>\n",
       "<tbody>\n",
       "\t<tr><td>Fort Lauderdale Hollywood Intl</td><td>23</td></tr>\n",
       "\t<tr><td>Orlando Intl                  </td><td>20</td></tr>\n",
       "\t<tr><td>Palm Beach Intl               </td><td>14</td></tr>\n",
       "</tbody>\n",
       "</table>\n"
      ]
     },
     "metadata": {},
     "output_type": "display_data"
    }
   ],
   "source": [
    "flights %>%\n",
    "filter(month == 12, day == 25, carrier == \"B6\") %>% # filter specific date and the focused airline.\n",
    "count(dest) %>% # count n_total of each destination.\n",
    "arrange(desc(n)) %>% # order desc to sort largest to smallest.\n",
    "left_join(airports, by = c(\"dest\" = \"faa\")) %>% # join with abbreviation of each destination to get full name.\n",
    "select(destination = name, n)%>%\n",
    "head(3) # pull the first 3 destination having n_total in order."
   ]
  },
  {
   "attachments": {},
   "cell_type": "markdown",
   "metadata": {
    "datalore": {
     "hide_input_from_viewers": false,
     "hide_output_from_viewers": false,
     "node_id": "2L3UpyIIqZkhsd5TFnisOi",
     "report_properties": {
      "height": 5,
      "x": 0,
      "y": 94
     },
     "type": "MD"
    }
   },
   "source": [
    "# Q03: Which airline had the most departure flights delayed in 2013?\n",
    "Answer: United Air Lines Inc."
   ]
  },
  {
   "cell_type": "code",
   "execution_count": null,
   "metadata": {
    "datalore": {
     "hide_input_from_viewers": false,
     "hide_output_from_viewers": false,
     "node_id": "Tl8YiNOZhXITQmsWKyYWrt",
     "report_properties": {
      "height": 12,
      "x": 0,
      "y": 99
     },
     "type": "CODE"
    },
    "vscode": {
     "languageId": "r"
    }
   },
   "outputs": [
    {
     "data": {
      "text/html": [
       "<table class=\"dataframe\">\n",
       "<caption>A grouped_df: 1 × 2</caption>\n",
       "<thead>\n",
       "\t<tr><th scope=col>airlines_name</th><th scope=col>n</th></tr>\n",
       "\t<tr><th scope=col>&lt;chr&gt;</th><th scope=col>&lt;int&gt;</th></tr>\n",
       "</thead>\n",
       "<tbody>\n",
       "\t<tr><td>United Air Lines Inc.</td><td>27261</td></tr>\n",
       "</tbody>\n",
       "</table>\n"
      ]
     },
     "metadata": {},
     "output_type": "display_data"
    }
   ],
   "source": [
    "airlines %>%\n",
    "mutate(airlines_name = name) %>% # create a new column whose column name is more specific.\n",
    "select(carrier, airlines_name) %>% \n",
    "left_join(flights, \"carrier\") %>% # join with carrier abbreviation to get more details from flights table.\n",
    "select(carrier, airlines_name, dep_delay) %>%\n",
    "filter(dep_delay > 0, !is.na(dep_delay)) %>% # filter negative number or blank out to get data of flights being delayed only. \n",
    "count(airlines_name) %>% \n",
    "arrange(desc(n)) %>% # order desc to sort largest to smallest.\n",
    "group_by(airlines_name) %>% # group by each airline to see how many times each flight delayed.\n",
    "head(1)"
   ]
  },
  {
   "attachments": {},
   "cell_type": "markdown",
   "metadata": {
    "datalore": {
     "hide_input_from_viewers": false,
     "hide_output_from_viewers": false,
     "node_id": "4C3kRTdolN5XZrCobK8yLm",
     "report_properties": {
      "height": 5,
      "x": 0,
      "y": 111
     },
     "type": "MD"
    }
   },
   "source": [
    "# Q04: What was the monthly average departure flight delayed by United Air Lines?"
   ]
  },
  {
   "cell_type": "code",
   "execution_count": null,
   "metadata": {
    "datalore": {
     "hide_input_from_viewers": false,
     "hide_output_from_viewers": false,
     "node_id": "MVh174vloiZ2lladLZEWOe",
     "report_properties": {
      "height": 16,
      "x": 0,
      "y": 116
     },
     "type": "CODE"
    },
    "vscode": {
     "languageId": "r"
    }
   },
   "outputs": [
    {
     "data": {
      "text/html": [
       "<table class=\"dataframe\">\n",
       "<caption>A tibble: 12 × 2</caption>\n",
       "<thead>\n",
       "\t<tr><th scope=col>month</th><th scope=col>avg_dep_delay</th></tr>\n",
       "\t<tr><th scope=col>&lt;dbl&gt;</th><th scope=col>&lt;dbl&gt;</th></tr>\n",
       "</thead>\n",
       "<tbody>\n",
       "\t<tr><td> 1</td><td>22.86570</td></tr>\n",
       "\t<tr><td> 2</td><td>22.83492</td></tr>\n",
       "\t<tr><td> 3</td><td>29.79762</td></tr>\n",
       "\t<tr><td> 4</td><td>35.25358</td></tr>\n",
       "\t<tr><td> 5</td><td>28.73297</td></tr>\n",
       "\t<tr><td> 6</td><td>38.89502</td></tr>\n",
       "\t<tr><td> 7</td><td>38.54497</td></tr>\n",
       "\t<tr><td> 8</td><td>28.86060</td></tr>\n",
       "\t<tr><td> 9</td><td>29.12829</td></tr>\n",
       "\t<tr><td>10</td><td>24.25383</td></tr>\n",
       "\t<tr><td>11</td><td>22.80542</td></tr>\n",
       "\t<tr><td>12</td><td>29.11708</td></tr>\n",
       "</tbody>\n",
       "</table>\n"
      ]
     },
     "metadata": {},
     "output_type": "display_data"
    }
   ],
   "source": [
    "flights %>%\n",
    "filter(carrier == \"UA\") %>% # filter specific airline\n",
    "select(carrier, month, dep_delay) %>%\n",
    "filter(dep_delay > 0, !is.na(dep_delay)) %>% # filter negative number or blank out to get data of flights being delayed only. \n",
    "group_by(month) %>%\n",
    "summarise(avg_dep_delay = mean(dep_delay))"
   ]
  },
  {
   "attachments": {},
   "cell_type": "markdown",
   "metadata": {
    "datalore": {
     "hide_input_from_viewers": false,
     "hide_output_from_viewers": false,
     "node_id": "eV3iQokeRuczLqfZ6bKeD8",
     "report_properties": {
      "height": 5,
      "x": 0,
      "y": 132
     },
     "type": "MD"
    }
   },
   "source": [
    "# Q05: What was the busiest day in December?\n",
    "Answer: Monday"
   ]
  },
  {
   "cell_type": "code",
   "execution_count": null,
   "metadata": {
    "datalore": {
     "hide_input_from_viewers": false,
     "hide_output_from_viewers": false,
     "node_id": "yaev8ZFJyEjQ6pxYTEGz0b",
     "report_properties": {
      "height": 14,
      "x": 0,
      "y": 137
     },
     "type": "CODE"
    },
    "vscode": {
     "languageId": "r"
    }
   },
   "outputs": [
    {
     "data": {
      "text/html": [
       "<table class=\"dataframe\">\n",
       "<caption>A grouped_df: 7 × 2</caption>\n",
       "<thead>\n",
       "\t<tr><th scope=col>day</th><th scope=col>n</th></tr>\n",
       "\t<tr><th scope=col>&lt;chr&gt;</th><th scope=col>&lt;int&gt;</th></tr>\n",
       "</thead>\n",
       "<tbody>\n",
       "\t<tr><td>Monday   </td><td>4888</td></tr>\n",
       "\t<tr><td>Tuesday  </td><td>4558</td></tr>\n",
       "\t<tr><td>Sunday   </td><td>4138</td></tr>\n",
       "\t<tr><td>Friday   </td><td>3871</td></tr>\n",
       "\t<tr><td>Thursday </td><td>3777</td></tr>\n",
       "\t<tr><td>Wednesday</td><td>3661</td></tr>\n",
       "\t<tr><td>Saturday </td><td>3242</td></tr>\n",
       "</tbody>\n",
       "</table>\n"
      ]
     },
     "metadata": {},
     "output_type": "display_data"
    }
   ],
   "source": [
    "flights %>%\n",
    "mutate(full_date = substr(time_hour, 1, 10)) %>% # create a new column as a full date.\n",
    "mutate(day = strftime(full_date, \"%A\")) %>% # convert full date to be day of week.\n",
    "filter(month == \"12\") %>% # filter month to be specific.\n",
    "select(day, month, flight) %>%\n",
    "count(day) %>% # count n_total of each day of week\n",
    "arrange(desc(n)) %>% # order desc to sort largest to smallest\n",
    "group_by(day) # group by day of week."
   ]
  }
 ],
 "metadata": {
  "datalore": {
   "base_environment": "minimal",
   "computation_mode": "JUPYTER",
   "package_manager": "conda",
   "packages": [],
   "version": 1
  },
  "kernelspec": {
   "display_name": "R",
   "language": "r",
   "name": "ir"
  }
 },
 "nbformat": 4,
 "nbformat_minor": 4
}
