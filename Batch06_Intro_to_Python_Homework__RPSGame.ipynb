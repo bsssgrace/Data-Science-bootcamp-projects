{
  "nbformat": 4,
  "nbformat_minor": 0,
  "metadata": {
    "colab": {
      "provenance": [],
      "authorship_tag": "ABX9TyNcUwdsxmS8ie2EUcDf12m2",
      "include_colab_link": true
    },
    "kernelspec": {
      "name": "python3",
      "display_name": "Python 3"
    },
    "language_info": {
      "name": "python"
    }
  },
  "cells": [
    {
      "cell_type": "markdown",
      "metadata": {
        "id": "view-in-github",
        "colab_type": "text"
      },
      "source": [
        "<a href=\"https://colab.research.google.com/github/bsssgrace/Data-Science-bootcamp-projects/blob/main/Batch06_Intro_to_Python_Homework__RPSGame.ipynb\" target=\"_parent\"><img src=\"https://colab.research.google.com/assets/colab-badge.svg\" alt=\"Open In Colab\"/></a>"
      ]
    },
    {
      "cell_type": "markdown",
      "source": [
        "Rock Paper Scissors!"
      ],
      "metadata": {
        "id": "UdN6HdtiBRMl"
      }
    },
    {
      "cell_type": "code",
      "source": [
        "import random\n",
        "!pip install emoji\n",
        "import emoji"
      ],
      "metadata": {
        "colab": {
          "base_uri": "https://localhost:8080/"
        },
        "id": "2CyH8BDxBUgw",
        "outputId": "2be92ba6-03b8-4ef1-8e3d-dde979b6b8ec"
      },
      "execution_count": 141,
      "outputs": [
        {
          "output_type": "stream",
          "name": "stdout",
          "text": [
            "Looking in indexes: https://pypi.org/simple, https://us-python.pkg.dev/colab-wheels/public/simple/\n",
            "Requirement already satisfied: emoji in /usr/local/lib/python3.7/dist-packages (2.2.0)\n"
          ]
        }
      ]
    },
    {
      "cell_type": "code",
      "source": [
        "# function\n",
        "def rps():\n",
        "    # define\n",
        "    count_win = 0\n",
        "    count_tie = 0\n",
        "    count_loss = 0\n",
        "    times = 0\n",
        "    bot_rps = [\"R\", \"P\", \"S\"]\n",
        "\n",
        "    # greeting\n",
        "    print('Welcome to Rock Paper Scissors Game!')\n",
        "    user_name = input(\"What should I call you? \")\n",
        "    print()\n",
        "    print(f\"Hi {user_name}! Nice to know you\",\"\\N{grinning face}\")\n",
        "    start = input(\"Would you like to start the game now? [Y/N]: \")\n",
        "    if start == 'N':\n",
        "        print()\n",
        "        print(\"Good bye!\")\n",
        "    elif start != 'N' and start != 'Y':\n",
        "        print()\n",
        "        print(\"Hey.. please try again!\")\n",
        "    else:\n",
        "        print()\n",
        "        print(\"You can simply put the following key when playing this game.\\\n",
        "        \\nR = Rock\\\n",
        "        \\nP = Paper\\\n",
        "        \\nS = Scissors\")\n",
        "        print()\n",
        "        print(\"Let's start!\")\n",
        "        print()\n",
        "\n",
        "        # start the game\n",
        "        while True:\n",
        "            user_rps = input(\"You choose: \")\n",
        "            bot_rps = random.choice(bot_rps)\n",
        "            print(\"Computer choose: \", bot_rps)\n",
        "            if user_rps == bot_rps:\n",
        "                count_tie += 1\n",
        "                print(\"Tie!\")\n",
        "                times += 1\n",
        "                print()\n",
        "            elif user_rps == \"R\":\n",
        "                if bot_rps == \"S\":\n",
        "                    count_win += 1\n",
        "                    print(\"Aha.. You win!\")\n",
        "                    times += 1\n",
        "                    print()\n",
        "                else:\n",
        "                    count_loss += 1\n",
        "                    print(\"Oh no.. You lose!\")\n",
        "                    times += 1\n",
        "                    print()\n",
        "            elif user_rps == \"P\":\n",
        "                if bot_rps == \"R\":\n",
        "                    count_win += 1\n",
        "                    print(\"Aha.. You win!\")\n",
        "                    times += 1\n",
        "                    print()\n",
        "                else:\n",
        "                    count_loss += 1\n",
        "                    print(\"Oh no.. You lose!\")\n",
        "                    times += 1\n",
        "                    print()\n",
        "            elif user_rps == \"S\":\n",
        "                if bot_rps == \"P\":\n",
        "                    count_win += 1\n",
        "                    print(\"Aha.. You win!\")\n",
        "                    times += 1\n",
        "                    print()\n",
        "                else:\n",
        "                    count_loss += 1\n",
        "                    print(\"Oh no.. You lose!\")\n",
        "                    times += 1\n",
        "                    print()\n",
        "            \n",
        "            play_again = input(\"Do you wanna play again? [Y/N]: \")\n",
        "            print()\n",
        "            if play_again != \"Y\":\n",
        "                break\n",
        "        \n",
        "        # summary\n",
        "        print(\"------------------YOUR TOTAL SCORES------------------\")\n",
        "        print(\"No. of playtime: \", times)\n",
        "        print(\"Win: \", count_win)\n",
        "        print(\"Tie: \", count_tie)\n",
        "        print(\"Loss: \", count_loss)\n",
        "        print()\n",
        "        print(\"Good bye!\")"
      ],
      "metadata": {
        "id": "Bu90x7efDiO3"
      },
      "execution_count": 142,
      "outputs": []
    },
    {
      "cell_type": "code",
      "source": [
        "rps()"
      ],
      "metadata": {
        "colab": {
          "base_uri": "https://localhost:8080/"
        },
        "id": "gEoP9MHmgcxH",
        "outputId": "f56caf27-e326-493f-f1fd-3b0aee0705e8"
      },
      "execution_count": 144,
      "outputs": [
        {
          "output_type": "stream",
          "name": "stdout",
          "text": [
            "Welcome to Rock Paper Scissors Game!\n",
            "What should I call you? Grace\n",
            "\n",
            "Hi Grace! Nice to know you 😀\n",
            "Would you like to start the game now? [Y/N]: Y\n",
            "\n",
            "You can simply put the following key when playing this game.        \n",
            "R = Rock        \n",
            "P = Paper        \n",
            "S = Scissors\n",
            "\n",
            "Let's start!\n",
            "\n",
            "You choose: S\n",
            "Computer choose:  S\n",
            "Tie!\n",
            "\n",
            "Do you wanna play again? [Y/N]: Y\n",
            "\n",
            "You choose: P\n",
            "Computer choose:  S\n",
            "Oh no.. You lose!\n",
            "\n",
            "Do you wanna play again? [Y/N]: Y\n",
            "\n",
            "You choose: R\n",
            "Computer choose:  S\n",
            "Aha.. You win!\n",
            "\n",
            "Do you wanna play again? [Y/N]: Y\n",
            "\n",
            "You choose: P\n",
            "Computer choose:  S\n",
            "Oh no.. You lose!\n",
            "\n",
            "Do you wanna play again? [Y/N]: N\n",
            "\n",
            "------------------YOUR TOTAL SCORES------------------\n",
            "No. of playtime:  4\n",
            "Win:  1\n",
            "Tie:  1\n",
            "Loss:  2\n",
            "\n",
            "Good bye!\n"
          ]
        }
      ]
    }
  ]
}